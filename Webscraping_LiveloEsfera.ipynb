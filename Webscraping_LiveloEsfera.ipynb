{
  "nbformat": 4,
  "nbformat_minor": 0,
  "metadata": {
    "colab": {
      "provenance": [],
      "authorship_tag": "ABX9TyOppJ+075VEJA0H79l42nxh",
      "include_colab_link": true
    },
    "kernelspec": {
      "name": "python3",
      "display_name": "Python 3"
    },
    "language_info": {
      "name": "python"
    }
  },
  "cells": [
    {
      "cell_type": "markdown",
      "metadata": {
        "id": "view-in-github",
        "colab_type": "text"
      },
      "source": [
        "<a href=\"https://colab.research.google.com/github/murillo-borges/webscraping-livelo-esfera/blob/main/Webscraping_LiveloEsfera.ipynb\" target=\"_parent\"><img src=\"https://colab.research.google.com/assets/colab-badge.svg\" alt=\"Open In Colab\"/></a>"
      ]
    },
    {
      "cell_type": "code",
      "execution_count": 38,
      "metadata": {
        "colab": {
          "base_uri": "https://localhost:8080/"
        },
        "id": "0kUrdiTjdSfp",
        "outputId": "5180dfbd-4565-444f-fe34-f48c1e9205c8"
      },
      "outputs": [
        {
          "output_type": "stream",
          "name": "stdout",
          "text": [
            "Requirement already satisfied: selenium in /usr/local/lib/python3.11/dist-packages (4.34.0)\n",
            "Requirement already satisfied: urllib3~=2.4.0 in /usr/local/lib/python3.11/dist-packages (from urllib3[socks]~=2.4.0->selenium) (2.4.0)\n",
            "Requirement already satisfied: trio~=0.30.0 in /usr/local/lib/python3.11/dist-packages (from selenium) (0.30.0)\n",
            "Requirement already satisfied: trio-websocket~=0.12.2 in /usr/local/lib/python3.11/dist-packages (from selenium) (0.12.2)\n",
            "Requirement already satisfied: certifi>=2025.4.26 in /usr/local/lib/python3.11/dist-packages (from selenium) (2025.6.15)\n",
            "Requirement already satisfied: typing_extensions~=4.14.0 in /usr/local/lib/python3.11/dist-packages (from selenium) (4.14.0)\n",
            "Requirement already satisfied: websocket-client~=1.8.0 in /usr/local/lib/python3.11/dist-packages (from selenium) (1.8.0)\n",
            "Requirement already satisfied: attrs>=23.2.0 in /usr/local/lib/python3.11/dist-packages (from trio~=0.30.0->selenium) (25.3.0)\n",
            "Requirement already satisfied: sortedcontainers in /usr/local/lib/python3.11/dist-packages (from trio~=0.30.0->selenium) (2.4.0)\n",
            "Requirement already satisfied: idna in /usr/local/lib/python3.11/dist-packages (from trio~=0.30.0->selenium) (3.10)\n",
            "Requirement already satisfied: outcome in /usr/local/lib/python3.11/dist-packages (from trio~=0.30.0->selenium) (1.3.0.post0)\n",
            "Requirement already satisfied: sniffio>=1.3.0 in /usr/local/lib/python3.11/dist-packages (from trio~=0.30.0->selenium) (1.3.1)\n",
            "Requirement already satisfied: wsproto>=0.14 in /usr/local/lib/python3.11/dist-packages (from trio-websocket~=0.12.2->selenium) (1.2.0)\n",
            "Requirement already satisfied: pysocks!=1.5.7,<2.0,>=1.5.6 in /usr/local/lib/python3.11/dist-packages (from urllib3[socks]~=2.4.0->selenium) (1.7.1)\n",
            "Requirement already satisfied: h11<1,>=0.9.0 in /usr/local/lib/python3.11/dist-packages (from wsproto>=0.14->trio-websocket~=0.12.2->selenium) (0.16.0)\n",
            "Get:1 http://security.ubuntu.com/ubuntu jammy-security InRelease [129 kB]\n",
            "Hit:2 https://cloud.r-project.org/bin/linux/ubuntu jammy-cran40/ InRelease\n",
            "Hit:3 http://archive.ubuntu.com/ubuntu jammy InRelease\n",
            "Hit:4 https://developer.download.nvidia.com/compute/cuda/repos/ubuntu2204/x86_64  InRelease\n",
            "Get:5 http://archive.ubuntu.com/ubuntu jammy-updates InRelease [128 kB]\n",
            "Hit:6 https://r2u.stat.illinois.edu/ubuntu jammy InRelease\n",
            "Get:7 http://archive.ubuntu.com/ubuntu jammy-backports InRelease [127 kB]\n",
            "Hit:8 https://ppa.launchpadcontent.net/deadsnakes/ppa/ubuntu jammy InRelease\n",
            "Hit:9 https://ppa.launchpadcontent.net/graphics-drivers/ppa/ubuntu jammy InRelease\n",
            "Hit:10 https://ppa.launchpadcontent.net/ubuntugis/ppa/ubuntu jammy InRelease\n",
            "Fetched 384 kB in 1s (274 kB/s)\n",
            "Reading package lists... Done\n",
            "W: Skipping acquire of configured file 'main/source/Sources' as repository 'https://r2u.stat.illinois.edu/ubuntu jammy InRelease' does not seem to provide it (sources.list entry misspelt?)\n",
            "Reading package lists... Done\n",
            "Building dependency tree... Done\n",
            "Reading state information... Done\n",
            "chromium-chromedriver is already the newest version (1:85.0.4183.83-0ubuntu2.22.04.1).\n",
            "0 upgraded, 0 newly installed, 0 to remove and 37 not upgraded.\n",
            "cp: '/usr/lib/chromium-browser/chromedriver' and '/usr/bin/chromedriver' are the same file\n"
          ]
        }
      ],
      "source": [
        "# 1. Instalação de pacotes necessários\n",
        "!pip install selenium\n",
        "!apt-get update # para o ChromeDriver\n",
        "!apt install chromium-chromedriver\n",
        "!cp /usr/lib/chromium-browser/chromedriver /usr/bin\n",
        "import sys\n",
        "sys.path.insert(0, '/usr/lib/chromium-browser/chromedriver')"
      ]
    },
    {
      "cell_type": "code",
      "source": [
        "# 2. Importações\n",
        "from email.mime.text import MIMEText\n",
        "from email.mime.multipart import MIMEMultipart\n",
        "from selenium import webdriver\n",
        "from selenium.webdriver.chrome.options import Options\n",
        "from bs4 import BeautifulSoup\n",
        "import time"
      ],
      "metadata": {
        "id": "muStz53gdbgu"
      },
      "execution_count": 39,
      "outputs": []
    },
    {
      "cell_type": "code",
      "source": [
        "# 3. Configurações do Chrome headless\n",
        "chrome_options = Options()\n",
        "chrome_options.add_argument(\"--headless\")\n",
        "chrome_options.add_argument(\"--no-sandbox\")\n",
        "chrome_options.add_argument(\"--disable-dev-shm-usage\")\n",
        "\n",
        "driver = webdriver.Chrome(options=chrome_options)"
      ],
      "metadata": {
        "id": "lRtXqpVtdiiY"
      },
      "execution_count": 40,
      "outputs": []
    },
    {
      "cell_type": "code",
      "source": [
        "# 4. Função para extrair dados de uma página\n",
        "def extrair_dados_amazon_livelo():\n",
        "    driver.get(\"https://www.livelo.com.br/juntar-pontos/parceiros/amazon/\")\n",
        "    time.sleep(5)\n",
        "    soup = BeautifulSoup(driver.page_source, 'html.parser')\n",
        "    texto = soup.get_text()\n",
        "    return \"Resumo Livelo:\\n\" + texto[:1000]  # limita para exemplo"
      ],
      "metadata": {
        "id": "wko9eUlSd12F"
      },
      "execution_count": 41,
      "outputs": []
    },
    {
      "cell_type": "code",
      "source": [
        "from selenium import webdriver\n",
        "from selenium.webdriver.chrome.options import Options\n",
        "from selenium.webdriver.common.by import By\n",
        "from selenium.webdriver.support.ui import WebDriverWait\n",
        "from selenium.webdriver.support import expected_conditions as EC\n",
        "from bs4 import BeautifulSoup\n",
        "\n",
        "def extrair_esfera():\n",
        "    options = Options()\n",
        "    options.add_argument(\"--headless\")  # Remova esta linha para debugar com navegador visível\n",
        "    options.add_argument(\"--no-sandbox\")\n",
        "    options.add_argument(\"--disable-dev-shm-usage\")\n",
        "\n",
        "    driver = webdriver.Chrome(options=options)\n",
        "\n",
        "    try:\n",
        "        url = \"https://www.esfera.com.vc/p/amazon/e000100298\"\n",
        "        driver.get(url)\n",
        "\n",
        "        # Espera o carregamento do título como indicativo de que o conteúdo principal foi carregado\n",
        "        wait = WebDriverWait(driver, 15)\n",
        "        wait.until(EC.presence_of_element_located((By.CLASS_NAME, \"product-title\")))\n",
        "\n",
        "        # Agora usa BeautifulSoup para extrair os campos HTML indicados\n",
        "        soup = BeautifulSoup(driver.page_source, \"html.parser\")\n",
        "\n",
        "        titulo = soup.find(\"h1\", class_=\"product-title\").text.strip()\n",
        "\n",
        "        beneficio_section = soup.find(\"p\", string=\"Beneficio\")\n",
        "        beneficio_div = beneficio_section.find_next(\"div\")\n",
        "        beneficio_raw = beneficio_div.contents[0].strip()\n",
        "        beneficio_info = beneficio_div.find(\"p\").text.strip()\n",
        "\n",
        "        validade_section = soup.find(\"p\", string=\"Validade\")\n",
        "        validade_text = validade_section.find_next(\"div\").text.strip()\n",
        "\n",
        "        credito_section = soup.find(\"p\", string=\"Creditado em\")\n",
        "        credito_text = credito_section.find_next(\"div\").text.strip()\n",
        "\n",
        "        resultado = f\"\"\"\n",
        "📦 Benefício {titulo} = {beneficio_raw} ({beneficio_info})\n",
        "🗓️ Validade da promoção: Até {validade_text}\n",
        "💳 Pontos creditados em até {credito_text}\n",
        "\"\"\"\n",
        "    except Exception as e:\n",
        "        resultado = f\"❌ Erro ao extrair dados da Esfera: {str(e)}\"\n",
        "    finally:\n",
        "        driver.quit()\n",
        "\n",
        "    return resultado.strip()"
      ],
      "metadata": {
        "id": "d4QEg1FjhB2c"
      },
      "execution_count": 43,
      "outputs": []
    },
    {
      "cell_type": "code",
      "source": [
        "esfera = extrair_esfera()\n",
        "esfera"
      ],
      "metadata": {
        "colab": {
          "base_uri": "https://localhost:8080/",
          "height": 52
        },
        "id": "giD7OJB1hfGU",
        "outputId": "760b56b1-6f39-4200-ef9a-36d760ec622e"
      },
      "execution_count": 44,
      "outputs": [
        {
          "output_type": "execute_result",
          "data": {
            "text/plain": [
              "'📦 Benefício Amazon = 1x1 (Ganhe 1 ponto a cada real)\\n🗓️ Validade da promoção: Até 31/12/25\\n💳 Pontos creditados em até 90 dias do recebimento do produto'"
            ],
            "application/vnd.google.colaboratory.intrinsic+json": {
              "type": "string"
            }
          },
          "metadata": {},
          "execution_count": 44
        }
      ]
    },
    {
      "cell_type": "markdown",
      "source": [
        "Enviar E-mail"
      ],
      "metadata": {
        "id": "pGfZ_S27oppx"
      }
    },
    {
      "cell_type": "code",
      "source": [
        "#importações\n",
        "from email.message import EmailMessage\n",
        "import os\n",
        "import smtplib\n",
        "\n",
        "#definindo dados de envio do e-mail\n",
        "remetente = os.environ['EMAIL_REMETENTE']\n",
        "destinatario = os.environ['EMAIL_DESTINATARIO']\n",
        "assunto = 'Seu resumo diário pontos Amazon'\n",
        "mensagem = f\"\"\"Olá, aqui está o seu resumo dos pontos Amazon:\n",
        "\n",
        "{esfera}\"\"\"\n",
        "\n",
        "senha = os.environ['SENHA_GMAIL']\n",
        "\n",
        "#crinado o e-mail\n",
        "msg = EmailMessage()\n",
        "msg['Subject'] = assunto\n",
        "msg['From'] = remetente\n",
        "msg['To'] = destinatario\n",
        "msg.set_content(mensagem)\n",
        "\n",
        "#enviando o e-mail\n",
        "with smtplib.SMTP_SSL(\"smtp.gmail.com\",465) as email:\n",
        "  email.login(remetente,senha)\n",
        "  email.send_message(msg)\n",
        "\n",
        "print(\"O email foi enviado com sucesso!\")"
      ],
      "metadata": {
        "colab": {
          "base_uri": "https://localhost:8080/",
          "height": 245
        },
        "id": "OxUGhP_3orQz",
        "outputId": "b322be0e-a952-40c8-f437-dab4575a1305"
      },
      "execution_count": 45,
      "outputs": [
        {
          "output_type": "error",
          "ename": "KeyError",
          "evalue": "'EMAIL_REMETENTE'",
          "traceback": [
            "\u001b[0;31m---------------------------------------------------------------------------\u001b[0m",
            "\u001b[0;31mKeyError\u001b[0m                                  Traceback (most recent call last)",
            "\u001b[0;32m/tmp/ipython-input-45-1595913699.py\u001b[0m in \u001b[0;36m<cell line: 0>\u001b[0;34m()\u001b[0m\n\u001b[1;32m      4\u001b[0m \u001b[0;34m\u001b[0m\u001b[0m\n\u001b[1;32m      5\u001b[0m \u001b[0;31m#definindo dados de envio do e-mail\u001b[0m\u001b[0;34m\u001b[0m\u001b[0;34m\u001b[0m\u001b[0m\n\u001b[0;32m----> 6\u001b[0;31m \u001b[0mremetente\u001b[0m \u001b[0;34m=\u001b[0m \u001b[0mos\u001b[0m\u001b[0;34m.\u001b[0m\u001b[0menviron\u001b[0m\u001b[0;34m[\u001b[0m\u001b[0;34m'EMAIL_REMETENTE'\u001b[0m\u001b[0;34m]\u001b[0m\u001b[0;34m\u001b[0m\u001b[0;34m\u001b[0m\u001b[0m\n\u001b[0m\u001b[1;32m      7\u001b[0m \u001b[0mdestinatario\u001b[0m \u001b[0;34m=\u001b[0m \u001b[0mos\u001b[0m\u001b[0;34m.\u001b[0m\u001b[0menviron\u001b[0m\u001b[0;34m[\u001b[0m\u001b[0;34m'EMAIL_DESTINATARIO'\u001b[0m\u001b[0;34m]\u001b[0m\u001b[0;34m\u001b[0m\u001b[0;34m\u001b[0m\u001b[0m\n\u001b[1;32m      8\u001b[0m \u001b[0massunto\u001b[0m \u001b[0;34m=\u001b[0m \u001b[0;34m'Seu resumo diário pontos Amazon'\u001b[0m\u001b[0;34m\u001b[0m\u001b[0;34m\u001b[0m\u001b[0m\n",
            "\u001b[0;32m/usr/lib/python3.11/os.py\u001b[0m in \u001b[0;36m__getitem__\u001b[0;34m(self, key)\u001b[0m\n",
            "\u001b[0;31mKeyError\u001b[0m: 'EMAIL_REMETENTE'"
          ]
        }
      ]
    }
  ]
}