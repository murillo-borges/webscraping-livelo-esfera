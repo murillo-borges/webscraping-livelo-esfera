{
  "nbformat": 4,
  "nbformat_minor": 0,
  "metadata": {
    "colab": {
      "provenance": [],
      "toc_visible": true,
      "authorship_tag": "ABX9TyOltPe6YspVEELilYa2lIpj",
      "include_colab_link": true
    },
    "kernelspec": {
      "name": "python3",
      "display_name": "Python 3"
    },
    "language_info": {
      "name": "python"
    }
  },
  "cells": [
    {
      "cell_type": "markdown",
      "metadata": {
        "id": "view-in-github",
        "colab_type": "text"
      },
      "source": [
        "<a href=\"https://colab.research.google.com/github/murillo-borges/webscraping-livelo-esfera/blob/main/Webscraping_LiveloEsfera.ipynb\" target=\"_parent\"><img src=\"https://colab.research.google.com/assets/colab-badge.svg\" alt=\"Open In Colab\"/></a>"
      ]
    },
    {
      "cell_type": "code",
      "execution_count": 61,
      "metadata": {
        "colab": {
          "base_uri": "https://localhost:8080/"
        },
        "id": "0kUrdiTjdSfp",
        "outputId": "1d9adf76-3805-46b4-82f9-db67f04e0b98",
        "collapsed": true
      },
      "outputs": [
        {
          "output_type": "stream",
          "name": "stdout",
          "text": [
            "Requirement already satisfied: selenium in /usr/local/lib/python3.11/dist-packages (4.34.1)\n",
            "Requirement already satisfied: urllib3~=2.5.0 in /usr/local/lib/python3.11/dist-packages (from urllib3[socks]~=2.5.0->selenium) (2.5.0)\n",
            "Requirement already satisfied: trio~=0.30.0 in /usr/local/lib/python3.11/dist-packages (from selenium) (0.30.0)\n",
            "Requirement already satisfied: trio-websocket~=0.12.2 in /usr/local/lib/python3.11/dist-packages (from selenium) (0.12.2)\n",
            "Requirement already satisfied: certifi>=2025.6.15 in /usr/local/lib/python3.11/dist-packages (from selenium) (2025.6.15)\n",
            "Requirement already satisfied: typing_extensions~=4.14.0 in /usr/local/lib/python3.11/dist-packages (from selenium) (4.14.0)\n",
            "Requirement already satisfied: websocket-client~=1.8.0 in /usr/local/lib/python3.11/dist-packages (from selenium) (1.8.0)\n",
            "Requirement already satisfied: attrs>=23.2.0 in /usr/local/lib/python3.11/dist-packages (from trio~=0.30.0->selenium) (25.3.0)\n",
            "Requirement already satisfied: sortedcontainers in /usr/local/lib/python3.11/dist-packages (from trio~=0.30.0->selenium) (2.4.0)\n",
            "Requirement already satisfied: idna in /usr/local/lib/python3.11/dist-packages (from trio~=0.30.0->selenium) (3.10)\n",
            "Requirement already satisfied: outcome in /usr/local/lib/python3.11/dist-packages (from trio~=0.30.0->selenium) (1.3.0.post0)\n",
            "Requirement already satisfied: sniffio>=1.3.0 in /usr/local/lib/python3.11/dist-packages (from trio~=0.30.0->selenium) (1.3.1)\n",
            "Requirement already satisfied: wsproto>=0.14 in /usr/local/lib/python3.11/dist-packages (from trio-websocket~=0.12.2->selenium) (1.2.0)\n",
            "Requirement already satisfied: pysocks!=1.5.7,<2.0,>=1.5.6 in /usr/local/lib/python3.11/dist-packages (from urllib3[socks]~=2.5.0->selenium) (1.7.1)\n",
            "Requirement already satisfied: h11<1,>=0.9.0 in /usr/local/lib/python3.11/dist-packages (from wsproto>=0.14->trio-websocket~=0.12.2->selenium) (0.16.0)\n",
            "Hit:1 http://security.ubuntu.com/ubuntu jammy-security InRelease\n",
            "Hit:2 https://developer.download.nvidia.com/compute/cuda/repos/ubuntu2204/x86_64  InRelease\n",
            "Hit:3 http://archive.ubuntu.com/ubuntu jammy InRelease\n",
            "Hit:4 https://cloud.r-project.org/bin/linux/ubuntu jammy-cran40/ InRelease\n",
            "Hit:5 https://r2u.stat.illinois.edu/ubuntu jammy InRelease\n",
            "Hit:6 http://archive.ubuntu.com/ubuntu jammy-updates InRelease\n",
            "Hit:7 http://archive.ubuntu.com/ubuntu jammy-backports InRelease\n",
            "Hit:8 https://ppa.launchpadcontent.net/deadsnakes/ppa/ubuntu jammy InRelease\n",
            "Hit:9 https://ppa.launchpadcontent.net/graphics-drivers/ppa/ubuntu jammy InRelease\n",
            "Hit:10 https://ppa.launchpadcontent.net/ubuntugis/ppa/ubuntu jammy InRelease\n",
            "Reading package lists... Done\n",
            "W: Skipping acquire of configured file 'main/source/Sources' as repository 'https://r2u.stat.illinois.edu/ubuntu jammy InRelease' does not seem to provide it (sources.list entry misspelt?)\n",
            "Reading package lists... Done\n",
            "Building dependency tree... Done\n",
            "Reading state information... Done\n",
            "chromium-chromedriver is already the newest version (1:85.0.4183.83-0ubuntu2.22.04.1).\n",
            "0 upgraded, 0 newly installed, 0 to remove and 50 not upgraded.\n",
            "cp: '/usr/lib/chromium-browser/chromedriver' and '/usr/bin/chromedriver' are the same file\n"
          ]
        }
      ],
      "source": [
        "# 1. Instalação de pacotes necessários\n",
        "!pip install selenium\n",
        "!apt-get update # para o ChromeDriver\n",
        "!apt install chromium-chromedriver\n",
        "!cp /usr/lib/chromium-browser/chromedriver /usr/bin\n",
        "import sys\n",
        "sys.path.insert(0, '/usr/lib/chromium-browser/chromedriver')"
      ]
    },
    {
      "cell_type": "code",
      "source": [
        "# 2. Importações\n",
        "from email.mime.text import MIMEText\n",
        "from email.mime.multipart import MIMEMultipart\n",
        "from selenium import webdriver\n",
        "from selenium.webdriver.chrome.options import Options\n",
        "from bs4 import BeautifulSoup\n",
        "import time"
      ],
      "metadata": {
        "id": "muStz53gdbgu"
      },
      "execution_count": 62,
      "outputs": []
    },
    {
      "cell_type": "code",
      "source": [
        "# 3. Configurações do Chrome headless\n",
        "chrome_options = Options()\n",
        "chrome_options.add_argument(\"--headless\")\n",
        "chrome_options.add_argument(\"--no-sandbox\")\n",
        "chrome_options.add_argument(\"--disable-dev-shm-usage\")\n",
        "\n",
        "driver = webdriver.Chrome(options=chrome_options)"
      ],
      "metadata": {
        "id": "lRtXqpVtdiiY"
      },
      "execution_count": 63,
      "outputs": []
    },
    {
      "cell_type": "markdown",
      "source": [
        "## Extração Livelo"
      ],
      "metadata": {
        "id": "jdF0ADnlFmnb"
      }
    },
    {
      "cell_type": "code",
      "source": [
        "from selenium.webdriver.common.by import By\n",
        "from selenium.webdriver.support.ui import WebDriverWait\n",
        "from selenium.webdriver.support import expected_conditions as EC\n",
        "from selenium import webdriver\n",
        "from selenium.webdriver.chrome.options import Options\n",
        "from bs4 import BeautifulSoup\n",
        "\n",
        "def extrair_livelo():\n",
        "    options = Options()\n",
        "    options.add_argument(\"--headless\")\n",
        "    options.add_argument(\"--no-sandbox\")\n",
        "    options.add_argument(\"--disable-dev-shm-usage\")\n",
        "    driver = webdriver.Chrome(options=options)\n",
        "\n",
        "    try:\n",
        "        url = \"https://www.livelo.com.br/juntar-pontos/parceiros/amazon/AMZ\"\n",
        "        driver.get(url)\n",
        "\n",
        "        # Espera até o benefício aparecer\n",
        "        wait = WebDriverWait(driver, 15)\n",
        "        wait.until(EC.presence_of_element_located((By.CSS_SELECTOR, \"span.css-1gdp5jf\")))\n",
        "\n",
        "        soup = BeautifulSoup(driver.page_source, \"html.parser\")\n",
        "\n",
        "        # Benefício\n",
        "        span = soup.find(\"span\", class_=\"css-1gdp5jf\")\n",
        "        texto = span.get_text(strip=True)\n",
        "        # Ex.: \"Ganhe até 1 ponto a cada 1 real gasto\"\n",
        "        # Processar para formato \"1x1 (Ganhe 1 ponto a cada real)\"\n",
        "        import re\n",
        "        m = re.search(r\"até\\s*(\\d+)\\s*ponto[s]?\\s*a\\s*cada\\s*(\\d+)\\s*real\", texto, re.IGNORECASE)\n",
        "        if m:\n",
        "            pts = m.group(1)\n",
        "            reais = m.group(2)\n",
        "            beneficio_format = f\"{pts}x{reais} ({texto.replace('até','').strip()})\"\n",
        "        else:\n",
        "            # fallback\n",
        "            beneficio_format = texto\n",
        "\n",
        "        resultado = f\"\"\"\n",
        "📦 Benefício Amazon & Livelo = {beneficio_format}\n",
        "\"\"\".strip()\n",
        "\n",
        "    except Exception as e:\n",
        "        resultado = f\"❌ Erro ao extrair dados da Livelo: {str(e)}\"\n",
        "    finally:\n",
        "        driver.quit()\n",
        "\n",
        "    return resultado\n",
        "\n",
        "livelo = extrair_livelo()\n",
        "livelo"
      ],
      "metadata": {
        "id": "pGiHDg3SQSF8",
        "colab": {
          "base_uri": "https://localhost:8080/",
          "height": 35
        },
        "outputId": "7e2b2d98-0046-41ee-bff6-ad89d72921d1"
      },
      "execution_count": 64,
      "outputs": [
        {
          "output_type": "execute_result",
          "data": {
            "text/plain": [
              "'📦 Benefício Amazon & Livelo = 1x1 (Ganhe  1 ponto  a cada 1 real gasto)'"
            ],
            "application/vnd.google.colaboratory.intrinsic+json": {
              "type": "string"
            }
          },
          "metadata": {},
          "execution_count": 64
        }
      ]
    },
    {
      "cell_type": "markdown",
      "source": [
        "## Gocase Livelo"
      ],
      "metadata": {
        "id": "OEdPlmsdHLsl"
      }
    },
    {
      "cell_type": "code",
      "source": [
        "from selenium.webdriver.common.by import By\n",
        "from selenium.webdriver.support.ui import WebDriverWait\n",
        "from selenium.webdriver.support import expected_conditions as EC\n",
        "from selenium import webdriver\n",
        "from selenium.webdriver.chrome.options import Options\n",
        "from bs4 import BeautifulSoup\n",
        "\n",
        "def extrair_livelo():\n",
        "    options = Options()\n",
        "    options.add_argument(\"--headless\")\n",
        "    options.add_argument(\"--no-sandbox\")\n",
        "    options.add_argument(\"--disable-dev-shm-usage\")\n",
        "    driver = webdriver.Chrome(options=options)\n",
        "\n",
        "    try:\n",
        "        url = \"https://www.livelo.com.br/juntar-pontos/parceiros/gocase/GCS\"\n",
        "        driver.get(url)\n",
        "\n",
        "        # Espera até o benefício aparecer\n",
        "        wait = WebDriverWait(driver, 15)\n",
        "        wait.until(EC.presence_of_element_located((By.CSS_SELECTOR, \"span.css-1gdp5jf\")))\n",
        "\n",
        "        soup = BeautifulSoup(driver.page_source, \"html.parser\")\n",
        "\n",
        "        # Benefício\n",
        "        span = soup.find(\"span\", class_=\"css-1gdp5jf\")\n",
        "        texto = span.get_text(strip=True)\n",
        "        # Ex.: \"Ganhe até 1 ponto a cada 1 real gasto\"\n",
        "        # Processar para formato \"1x1 (Ganhe 1 ponto a cada real)\"\n",
        "        import re\n",
        "        m = re.search(r\"até\\s*(\\d+)\\s*ponto[s]?\\s*a\\s*cada\\s*(\\d+)\\s*real\", texto, re.IGNORECASE)\n",
        "        if m:\n",
        "            pts = m.group(1)\n",
        "            reais = m.group(2)\n",
        "            beneficio_format = f\"{pts}x{reais} ({texto.replace('até','').strip()})\"\n",
        "        else:\n",
        "            # fallback\n",
        "            beneficio_format = texto\n",
        "\n",
        "        resultado = f\"\"\"\n",
        "📦 Benefício Gocase & Livelo = {beneficio_format}\n",
        "\"\"\".strip()\n",
        "\n",
        "    except Exception as e:\n",
        "        resultado = f\"❌ Erro ao extrair dados da Livelo: {str(e)}\"\n",
        "    finally:\n",
        "        driver.quit()\n",
        "\n",
        "    return resultado\n",
        "\n",
        "livelo_gocase = extrair_livelo()\n",
        "livelo_gocase"
      ],
      "metadata": {
        "colab": {
          "base_uri": "https://localhost:8080/",
          "height": 35
        },
        "id": "V7LsaOawHN15",
        "outputId": "099c3aeb-3867-49e8-a10e-96af26efe023"
      },
      "execution_count": 65,
      "outputs": [
        {
          "output_type": "execute_result",
          "data": {
            "text/plain": [
              "'📦 Benefício Gocase & Livelo = 2x1 (Ganhe  2 pontos  a cada 1 real gasto)'"
            ],
            "application/vnd.google.colaboratory.intrinsic+json": {
              "type": "string"
            }
          },
          "metadata": {},
          "execution_count": 65
        }
      ]
    },
    {
      "cell_type": "code",
      "source": [
        "from selenium import webdriver\n",
        "from selenium.webdriver.chrome.options import Options\n",
        "from selenium.webdriver.common.by import By\n",
        "from selenium.webdriver.support.ui import WebDriverWait\n",
        "from selenium.webdriver.support import expected_conditions as EC\n",
        "from bs4 import BeautifulSoup\n",
        "import re\n",
        "\n",
        "def extrair_beneficio_livelo(nome_loja, url):\n",
        "    options = Options()\n",
        "    options.add_argument(\"--headless\")\n",
        "    options.add_argument(\"--no-sandbox\")\n",
        "    options.add_argument(\"--disable-dev-shm-usage\")\n",
        "    driver = webdriver.Chrome(options=options)\n",
        "\n",
        "    try:\n",
        "        driver.get(url)\n",
        "\n",
        "        # Espera até o benefício aparecer\n",
        "        wait = WebDriverWait(driver, 15)\n",
        "        wait.until(EC.presence_of_element_located((By.CSS_SELECTOR, \"span.css-1gdp5jf\")))\n",
        "\n",
        "        soup = BeautifulSoup(driver.page_source, \"html.parser\")\n",
        "\n",
        "        span = soup.find(\"span\", class_=\"css-1gdp5jf\")\n",
        "        texto = span.get_text(strip=True)\n",
        "\n",
        "        # Ex.: \"Ganhe até 2 pontos a cada 1 real gasto\"\n",
        "        match = re.search(r\"até\\s*(\\d+)\\s*ponto[s]?\\s*a\\s*cada\\s*(\\d+)\\s*real\", texto, re.IGNORECASE)\n",
        "        if match:\n",
        "            pts, reais = match.group(1), match.group(2)\n",
        "            beneficio_format = f\"{pts}x{reais} (Ganhe {pts} ponto{'s' if int(pts) > 1 else ''} a cada real)\"\n",
        "        else:\n",
        "            beneficio_format = texto\n",
        "\n",
        "        resultado = f\"{nome_loja.title()} & Livelo = {beneficio_format}\\n Link: {url} \\n\"\n",
        "\n",
        "    except Exception as e:\n",
        "        resultado = f\"❌ Erro ao extrair dados da Livelo: {str(e)}\"\n",
        "\n",
        "    finally:\n",
        "        driver.quit()\n",
        "\n",
        "    return resultado\n",
        "\n",
        "# Exemplos de uso:\n",
        "livelo_amazon = extrair_beneficio_livelo(\"Amazon\", \"https://www.livelo.com.br/juntar-pontos/parceiros/amazon/AMZ\")\n",
        "livelo_gocase = extrair_beneficio_livelo(\"Gocase\", \"https://www.livelo.com.br/juntar-pontos/parceiros/gocase/GCS\")"
      ],
      "metadata": {
        "id": "aujT6TK1IEJz"
      },
      "execution_count": 66,
      "outputs": []
    },
    {
      "cell_type": "markdown",
      "source": [
        "## Esfera unificado"
      ],
      "metadata": {
        "id": "wMaieI6mG-ki"
      }
    },
    {
      "cell_type": "code",
      "source": [
        "from selenium import webdriver\n",
        "from selenium.webdriver.chrome.options import Options\n",
        "from selenium.webdriver.common.by import By\n",
        "from selenium.webdriver.support.ui import WebDriverWait\n",
        "from selenium.webdriver.support import expected_conditions as EC\n",
        "from bs4 import BeautifulSoup\n",
        "import time\n",
        "\n",
        "def extrair_beneficio_esfera(nome_loja, url):\n",
        "    options = Options()\n",
        "    options.add_argument(\"--headless\")\n",
        "    options.add_argument(\"--no-sandbox\")\n",
        "    options.add_argument(\"--disable-dev-shm-usage\")\n",
        "\n",
        "    driver = webdriver.Chrome(options=options)\n",
        "\n",
        "    try:\n",
        "        driver.get(url)\n",
        "        WebDriverWait(driver, 15).until(\n",
        "            EC.presence_of_element_located((By.TAG_NAME, \"body\"))\n",
        "        )\n",
        "        time.sleep(2)\n",
        "        soup = BeautifulSoup(driver.page_source, \"html.parser\")\n",
        "\n",
        "        # Verifica se tem estrutura Gocase (novos cards com fontes grandes)\n",
        "        pontos_span = soup.find(\"span\", class_=\"font-poppins leading-tight text-6xl font-semibold lg:mr-4 w-max\")\n",
        "\n",
        "        if pontos_span:\n",
        "            # 🟢 Estrutura nova (ex: Gocase)\n",
        "            pontos = pontos_span.text.strip()\n",
        "            unidade = soup.find(\"span\", class_=\"font-poppins leading-tight text-xl font-semibold tracking-tight text-boston\").text.strip()\n",
        "            programa = soup.find(\"span\", class_=\"font-poppins leading-tight text-xl font-normal tracking-tight text-grey-darker\").text.strip()\n",
        "\n",
        "            if int(pontos) > 1:\n",
        "                beneficio_formatado = f\"{pontos}x1 (Ganhe {pontos} {unidade} {programa} a cada real)\"\n",
        "            else:\n",
        "                beneficio_formatado = f\"{pontos}x1 (Ganhe {pontos} {unidade[:-1]} {programa} a cada real)\"\n",
        "\n",
        "            resultado = f\"{nome_loja} = {beneficio_formatado}\\n🔗 Link: {url}\\n\"\n",
        "\n",
        "        else:\n",
        "            # 🟡 Estrutura antiga (ex: Amazon)\n",
        "            titulo = soup.find(\"h1\", class_=\"product-title\").text.strip()\n",
        "            beneficio_section = soup.find(\"p\", string=\"Beneficio\")\n",
        "            beneficio_raw = beneficio_section.find_next(\"div\").contents[0].strip()\n",
        "            beneficio_info = beneficio_section.find_next(\"div\").find(\"p\").text.strip()\n",
        "            validade = soup.find(\"p\", string=\"Validade\").find_next(\"div\").text.strip()\n",
        "            credito = soup.find(\"p\", string=\"Creditado em\").find_next(\"div\").text.strip()\n",
        "\n",
        "            resultado = f\"{titulo} = {beneficio_raw} ({beneficio_info})\\n🔗 Link: {url}\\n\"\n",
        "\n",
        "    except Exception as e:\n",
        "        resultado = f\"❌ Erro ao extrair dados da Esfera: {str(e)}\"\n",
        "    finally:\n",
        "        driver.quit()\n",
        "\n",
        "    return resultado.strip()\n",
        "\n",
        "esfera_amazon = extrair_beneficio_esfera(\"Amazon\", \"https://www.esfera.com.vc/p/amazon/e000100298\")\n",
        "esfera_gocase = extrair_beneficio_esfera(\"Gocase\", \"https://www.esfera.com.vc/p/gocase/e000100705\")"
      ],
      "metadata": {
        "id": "U4AjwnTgGzMJ"
      },
      "execution_count": 67,
      "outputs": []
    },
    {
      "cell_type": "markdown",
      "source": [
        "## Unificando os dados"
      ],
      "metadata": {
        "id": "sQAOZrVxK1uc"
      }
    },
    {
      "cell_type": "code",
      "source": [
        "df_final = f\"\"\"🔴 Esfera & {esfera_amazon}\n",
        "🟣 Livelo & {livelo_amazon}\n",
        "\n",
        "------------------------------------\n",
        "\n",
        "🔴 Esfera & {esfera_gocase}\n",
        "🟣 Livelo & {livelo_gocase}\n",
        "\n",
        "\"\"\""
      ],
      "metadata": {
        "id": "4YnzwHfiK21j"
      },
      "execution_count": 68,
      "outputs": []
    },
    {
      "cell_type": "code",
      "source": [
        "print(df_final)"
      ],
      "metadata": {
        "colab": {
          "base_uri": "https://localhost:8080/"
        },
        "id": "m6uYkFKzLhdH",
        "outputId": "f9157e30-2586-4803-b5c7-c940fff7c938"
      },
      "execution_count": 69,
      "outputs": [
        {
          "output_type": "stream",
          "name": "stdout",
          "text": [
            "🔴 Esfera & Amazon = 1x1 (Ganhe 1 ponto a cada real)\n",
            "🔗 Link: https://www.esfera.com.vc/p/amazon/e000100298\n",
            "🟣 Livelo & Amazon & Livelo = 1x1 (Ganhe 1 ponto a cada real)\n",
            " Link: https://www.livelo.com.br/juntar-pontos/parceiros/amazon/AMZ \n",
            "\n",
            "\n",
            "------------------------------------\n",
            "\n",
            "🔴 Esfera & Gocase = 2x1 (Ganhe 2 Pontos Esfera* a cada real)\n",
            "🔗 Link: https://www.esfera.com.vc/p/gocase/e000100705\n",
            "🟣 Livelo & Gocase & Livelo = 2x1 (Ganhe 2 pontos a cada real)\n",
            " Link: https://www.livelo.com.br/juntar-pontos/parceiros/gocase/GCS \n",
            "\n",
            "\n",
            "\n"
          ]
        }
      ]
    },
    {
      "cell_type": "markdown",
      "source": [
        "## Enviar E-mail"
      ],
      "metadata": {
        "id": "XkPGKz6tMPSt"
      }
    },
    {
      "cell_type": "code",
      "source": [
        "#importações\n",
        "from email.message import EmailMessage\n",
        "import os\n",
        "import smtplib\n",
        "\n",
        "#definindo dados de envio do e-mail\n",
        "remetente = os.environ['EMAIL_REMETENTE']\n",
        "destinatario = os.environ['EMAIL_DESTINATARIO']\n",
        "assunto = 'Seu resumo diário pontos Amazon'\n",
        "mensagem = f\"\"\"Olá, aqui está o seu resumo dos pontos Esfera e Livelo:\n",
        "\n",
        "------------------------------------\n",
        "\n",
        "{df_final}\n",
        "\"\"\"\n",
        "\n",
        "senha = os.environ['SENHA_GMAIL']\n",
        "\n",
        "#crinado o e-mail\n",
        "msg = EmailMessage()\n",
        "msg['Subject'] = assunto\n",
        "msg['From'] = remetente\n",
        "msg['To'] = destinatario\n",
        "msg.set_content(mensagem)\n",
        "\n",
        "#enviando o e-mail\n",
        "with smtplib.SMTP_SSL(\"smtp.gmail.com\",465) as email:\n",
        "  email.login(remetente,senha)\n",
        "  email.send_message(msg)\n",
        "\n",
        "print(\"O email foi enviado com sucesso!\")\n",
        ""
      ],
      "metadata": {
        "colab": {
          "base_uri": "https://localhost:8080/",
          "height": 245
        },
        "id": "8n_pUsRNMPsz",
        "outputId": "7524920f-72ce-4f96-d64d-f827019c976f"
      },
      "execution_count": 70,
      "outputs": [
        {
          "output_type": "error",
          "ename": "KeyError",
          "evalue": "'EMAIL_REMETENTE'",
          "traceback": [
            "\u001b[0;31m---------------------------------------------------------------------------\u001b[0m",
            "\u001b[0;31mKeyError\u001b[0m                                  Traceback (most recent call last)",
            "\u001b[0;32m/tmp/ipython-input-70-87925192.py\u001b[0m in \u001b[0;36m<cell line: 0>\u001b[0;34m()\u001b[0m\n\u001b[1;32m      5\u001b[0m \u001b[0;34m\u001b[0m\u001b[0m\n\u001b[1;32m      6\u001b[0m \u001b[0;31m#definindo dados de envio do e-mail\u001b[0m\u001b[0;34m\u001b[0m\u001b[0;34m\u001b[0m\u001b[0m\n\u001b[0;32m----> 7\u001b[0;31m \u001b[0mremetente\u001b[0m \u001b[0;34m=\u001b[0m \u001b[0mos\u001b[0m\u001b[0;34m.\u001b[0m\u001b[0menviron\u001b[0m\u001b[0;34m[\u001b[0m\u001b[0;34m'EMAIL_REMETENTE'\u001b[0m\u001b[0;34m]\u001b[0m\u001b[0;34m\u001b[0m\u001b[0;34m\u001b[0m\u001b[0m\n\u001b[0m\u001b[1;32m      8\u001b[0m \u001b[0mdestinatario\u001b[0m \u001b[0;34m=\u001b[0m \u001b[0mos\u001b[0m\u001b[0;34m.\u001b[0m\u001b[0menviron\u001b[0m\u001b[0;34m[\u001b[0m\u001b[0;34m'EMAIL_DESTINATARIO'\u001b[0m\u001b[0;34m]\u001b[0m\u001b[0;34m\u001b[0m\u001b[0;34m\u001b[0m\u001b[0m\n\u001b[1;32m      9\u001b[0m \u001b[0massunto\u001b[0m \u001b[0;34m=\u001b[0m \u001b[0;34m'Seu resumo diário pontos Amazon'\u001b[0m\u001b[0;34m\u001b[0m\u001b[0;34m\u001b[0m\u001b[0m\n",
            "\u001b[0;32m/usr/lib/python3.11/os.py\u001b[0m in \u001b[0;36m__getitem__\u001b[0;34m(self, key)\u001b[0m\n",
            "\u001b[0;31mKeyError\u001b[0m: 'EMAIL_REMETENTE'"
          ]
        }
      ]
    },
    {
      "cell_type": "code",
      "source": [],
      "metadata": {
        "id": "j5T7HqX6MfP8"
      },
      "execution_count": null,
      "outputs": []
    }
  ]
}