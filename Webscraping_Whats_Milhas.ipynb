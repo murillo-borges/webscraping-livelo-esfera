{
  "nbformat": 4,
  "nbformat_minor": 0,
  "metadata": {
    "colab": {
      "provenance": [],
      "toc_visible": true,
      "authorship_tag": "ABX9TyOGptGVNRLLc2z72KqoYjPy",
      "include_colab_link": true
    },
    "kernelspec": {
      "name": "python3",
      "display_name": "Python 3"
    },
    "language_info": {
      "name": "python"
    }
  },
  "cells": [
    {
      "cell_type": "markdown",
      "metadata": {
        "id": "view-in-github",
        "colab_type": "text"
      },
      "source": [
        "<a href=\"https://colab.research.google.com/github/murillo-borges/webscraping-livelo-esfera/blob/main/Webscraping_Whats_Milhas.ipynb\" target=\"_parent\"><img src=\"https://colab.research.google.com/assets/colab-badge.svg\" alt=\"Open In Colab\"/></a>"
      ]
    },
    {
      "cell_type": "markdown",
      "source": [
        "## Dados padronizados"
      ],
      "metadata": {
        "id": "5xzUxR45AmVS"
      }
    },
    {
      "cell_type": "code",
      "source": [
        "pip install pandas"
      ],
      "metadata": {
        "colab": {
          "base_uri": "https://localhost:8080/"
        },
        "id": "YdJwevRMrdUR",
        "outputId": "e46f48ea-7807-4da6-d656-393e09716eb1"
      },
      "execution_count": 8,
      "outputs": [
        {
          "output_type": "stream",
          "name": "stdout",
          "text": [
            "Requirement already satisfied: pandas in /usr/local/lib/python3.12/dist-packages (2.2.2)\n",
            "Requirement already satisfied: numpy>=1.26.0 in /usr/local/lib/python3.12/dist-packages (from pandas) (2.0.2)\n",
            "Requirement already satisfied: python-dateutil>=2.8.2 in /usr/local/lib/python3.12/dist-packages (from pandas) (2.9.0.post0)\n",
            "Requirement already satisfied: pytz>=2020.1 in /usr/local/lib/python3.12/dist-packages (from pandas) (2025.2)\n",
            "Requirement already satisfied: tzdata>=2022.7 in /usr/local/lib/python3.12/dist-packages (from pandas) (2025.2)\n",
            "Requirement already satisfied: six>=1.5 in /usr/local/lib/python3.12/dist-packages (from python-dateutil>=2.8.2->pandas) (1.17.0)\n"
          ]
        }
      ]
    },
    {
      "cell_type": "code",
      "source": [
        "pip install datetime"
      ],
      "metadata": {
        "colab": {
          "base_uri": "https://localhost:8080/"
        },
        "id": "kinpyL-vpi7g",
        "outputId": "61a3bb0a-56cb-492c-d066-552690565f51"
      },
      "execution_count": 9,
      "outputs": [
        {
          "output_type": "stream",
          "name": "stdout",
          "text": [
            "Requirement already satisfied: datetime in /usr/local/lib/python3.12/dist-packages (5.5)\n",
            "Requirement already satisfied: zope.interface in /usr/local/lib/python3.12/dist-packages (from datetime) (8.0.1)\n",
            "Requirement already satisfied: pytz in /usr/local/lib/python3.12/dist-packages (from datetime) (2025.2)\n"
          ]
        }
      ]
    },
    {
      "cell_type": "markdown",
      "source": [
        "### Horarios envios\n",
        "- 08h\n",
        "- 11h\n",
        "- 14h\n",
        "- 18h"
      ],
      "metadata": {
        "id": "GELdRA2b2SRw"
      }
    },
    {
      "cell_type": "code",
      "source": [
        "#Horarios de corte para envios\n",
        "hora_max_grupo_perfumaria_cosmeticos = 9\n",
        "hora_min_grupo_esportivo = 11\n",
        "hora_max_grupo_esportivo = 13\n",
        "hora_min_grupo_cosmeticos = 14\n",
        "hora_max_grupo_cosmeticos = 18\n",
        "hora_min_grupo_varejo = 17\n",
        "hora_max_grupo_varejo = 19"
      ],
      "metadata": {
        "id": "6rDeqFm31JZ1"
      },
      "execution_count": 10,
      "outputs": []
    },
    {
      "cell_type": "markdown",
      "source": [
        "### Função para Webscrapping"
      ],
      "metadata": {
        "id": "WSN4dYsve75v"
      }
    },
    {
      "cell_type": "code",
      "execution_count": 11,
      "metadata": {
        "id": "gaK33-E5hggr"
      },
      "outputs": [],
      "source": [
        "#Importando bibliotecas\n",
        "import requests\n",
        "import pandas as pd\n",
        "import re\n",
        "import datetime\n",
        "from bs4 import BeautifulSoup\n",
        "from zoneinfo import ZoneInfo\n",
        "import textwrap\n",
        "\n",
        "#Id dos grupos\n",
        "id_grupo_envio = '555195564436-1477420627@g.us'\n",
        "  #Meu grupo pessoal = '555195564436-1477420627@g.us'\n",
        "  #Grupo milhas business = '120363040547851644@g.us'\n",
        "\n",
        "#Coletando a data do dia\n",
        "data_hoje = datetime.datetime.now(ZoneInfo(\"America/Sao_Paulo\")).date()\n",
        "data_formatada = data_hoje.strftime(\"%d/%m/%Y\")\n",
        "\n",
        "# Lista de nomes que você quer capturar (normalizados)\n",
        "nomes_alvo = [\"livelo\", \"shopping livelo\", \"esfera\", \"smiles\", \"azul\", \"shopping latam\", \"latam\", \"pass\", \"LATAM Pass\", \"Shopping Livelo\"]\n",
        "\n",
        "#Buscando a hora atual\n",
        "agora_brasilia = datetime.datetime.now(ZoneInfo(\"America/Sao_Paulo\"))\n",
        "\n",
        "hora_atual = int(agora_brasilia.strftime(\"%H\"))\n",
        "\n",
        "import requests, re\n",
        "import pandas as pd\n",
        "from bs4 import BeautifulSoup\n",
        "\n",
        "def coletar_promocoes(url, parceiro, data_formatada, nomes_alvo):\n",
        "    pagina = requests.get(url)\n",
        "    dados_pagina = BeautifulSoup(pagina.text, 'html.parser')\n",
        "\n",
        "    # --- Captura dos nomes ---\n",
        "    list_nomes_clubes = []\n",
        "    for sp in dados_pagina.select(\"div.d-grid span\"):\n",
        "        nome = sp.get_text(strip=True)\n",
        "        nome_norm = nome.lower()\n",
        "\n",
        "        if nome_norm not in nomes_alvo:\n",
        "            continue\n",
        "\n",
        "        # Emojis\n",
        "        if nome_norm in(\"livelo\", \"Shopping Livelo\"):\n",
        "            nome = f\"🟣 {nome}\"\n",
        "        elif nome_norm == \"esfera\":\n",
        "            nome = f\"🔴 {nome}\"\n",
        "        elif nome_norm == \"smiles\":\n",
        "            nome = f\"🟠 {nome}\"\n",
        "        elif nome_norm in (\"azul\", \"shopping latam\", \"latam\"):\n",
        "            nome = f\"🔵 {nome}\"\n",
        "        else:\n",
        "            nome = nome\n",
        "\n",
        "        list_nomes_clubes.append(nome)\n",
        "\n",
        "    # --- Captura da pontuação ---\n",
        "    list_pontuacao_clubes = []\n",
        "    tabela_pm = dados_pagina.find('th', string=lambda s: s and 'Pontos e Milhas' in s)\n",
        "    if tabela_pm:\n",
        "        table = tabela_pm.find_parent('table')\n",
        "        for tr in table.select('tbody tr'):\n",
        "            nome_el = tr.select_one('td .d-grid span')\n",
        "            if not nome_el:\n",
        "                continue\n",
        "            nome_norm = nome_el.get_text(strip=True).lower()\n",
        "\n",
        "            if nome_norm not in nomes_alvo:\n",
        "                continue\n",
        "\n",
        "            tds = tr.find_all('td')\n",
        "            if len(tds) < 2:\n",
        "                continue\n",
        "\n",
        "            texto_ganho = tds[-1].get_text(\" \", strip=True)\n",
        "            m = re.search(r'(\\d+(?:[.,]\\d+)?)\\s*pt', texto_ganho, flags=re.I)\n",
        "            if not m:\n",
        "                continue\n",
        "\n",
        "            valor = m.group(1).replace(',', '.')\n",
        "            val_float = float(valor)\n",
        "            val_final = int(val_float) if val_float.is_integer() else val_float\n",
        "\n",
        "            list_pontuacao_clubes.append(val_final)\n",
        "\n",
        "    # Monta DataFrame\n",
        "    df = pd.DataFrame({\n",
        "        \"nome_clube\": list_nomes_clubes,\n",
        "        \"pontuacao_clube\": list_pontuacao_clubes\n",
        "    })\n",
        "\n",
        "    # --- Ajuste de pontuação e análise ---\n",
        "    list_analise = []\n",
        "    for index, row in df.iterrows():\n",
        "        nome_norm = row[\"nome_clube\"].lower()\n",
        "\n",
        "        if (\"livelo\" not in nome_norm) and (\"esfera\" not in nome_norm):\n",
        "            pontuacao_ajustada = row[\"pontuacao_clube\"] / 1.8\n",
        "        else:\n",
        "            pontuacao_ajustada = row[\"pontuacao_clube\"]\n",
        "\n",
        "        #Analisando a promoção\n",
        "        if pontuacao_ajustada >= 12:\n",
        "          d_analise = '⭐⭐⭐⭐⭐ Nível 5 (Excelente / Raro) 😏: Promoção rara, aproveite sem medo!'\n",
        "        elif pontuacao_ajustada >= 8:\n",
        "          d_analise = '⭐⭐⭐⭐ Nível 4 (Muito Bom) 😎: Ótima Promoção, daqui pra cima já vale muito!'\n",
        "        elif pontuacao_ajustada >= 6:\n",
        "          d_analise = '⭐⭐⭐ Nível 3 (Bom) 😉: Bom momento para potencializar compras planejadas, mas se puder aguardar, tem coisa melhor!'\n",
        "        elif pontuacao_ajustada >= 3:\n",
        "          d_analise = '⭐⭐ Nível 2 (Mediano) 🧐: Dá pra usar se você realmente já iria comprar, mas é melhor aguardar algo melhor ;)'\n",
        "        else:\n",
        "          d_analise = '⭐ Nível 1 (Ruim) 😡: Sugiro aguardar algo melhor'\n",
        "\n",
        "        list_analise.append(d_analise)\n",
        "\n",
        "    df[\"analise_pontuacao\"] = list_analise\n",
        "    df[\"parceiro\"] = parceiro\n",
        "    df[\"data_coleta_promocao\"] = data_formatada\n",
        "\n",
        "    return df"
      ]
    },
    {
      "cell_type": "markdown",
      "source": [
        "### Mensagem Bom dia"
      ],
      "metadata": {
        "id": "yTgrRzW1Musy"
      }
    },
    {
      "cell_type": "code",
      "source": [
        "#Criando o texto de bom dia\n",
        "\n",
        "dia_semana = agora_brasilia.strftime(\"%A\")  # Nome do dia em inglês\n",
        "\n",
        "if dia_semana == \"Monday\":\n",
        "    txt_dia_semana = \"segundou! 😴\"\n",
        "elif dia_semana == \"Tuesday\":\n",
        "    txt_dia_semana = \"terçou!\"\n",
        "elif dia_semana == \"Wednesday\":\n",
        "    txt_dia_semana = \"quartou!\"\n",
        "elif dia_semana == \"Thursday\":\n",
        "    txt_dia_semana = \"quintou! 🚀\"\n",
        "elif dia_semana == \"Friday\":\n",
        "    txt_dia_semana = \"sextou! 🔥\"\n",
        "elif dia_semana == \"Saturday\":\n",
        "    txt_dia_semana = \"sabadou! 😎\"\n",
        "elif dia_semana == \"Sunday\":\n",
        "    txt_dia_semana = \"domingou! ☀️\"\n",
        "else:\n",
        "    txt_dia_semana = \"vocês estão bem?\"\n",
        "\n",
        "texto_bom_dia = f\"\"\"\n",
        "☀️ *Bom dia milheiros, {txt_dia_semana}*\n",
        "\n",
        "Antes de começar o dia, segue o nosso critério de análise para você aproveitar as melhores promoções no acúmulo de milhas:\n",
        "\n",
        "Nós avaliamos cada promoção em 5 níveis, com base no retorno de milhas/pontos:\n",
        "\n",
        "• *Nível 1 (Ruim) ⭐* Menos que 3 pontos → Sugiro aguardar algo melhor.\n",
        "• *Nível 2 (Mediano) ⭐⭐* 3 pontos ou mais → Use só se você já iria comprar de qualquer forma.\n",
        "• *Nível 3 (Bom) ⭐⭐⭐* 6 pontos ou mais → Bom para compras planejadas, mas ainda pode melhorar.\n",
        "• *Nível 4 (Muito Bom) ⭐⭐⭐⭐* 8 pontos ou mais → Ótima promoção, daqui pra cima já vale muito a pena!\n",
        "• *Nível 5 (Excelente / Raro) ⭐⭐⭐⭐⭐* 12 pontos ou mais → Promoção rara, dessas que não aparecem toda hora. Aproveite sem medo!\n",
        "\n",
        "Quanto maior o nível, melhor o custo-benefício para acumular milhas/pontos.\n",
        "\n",
        "Obs: Em promoções diretamente nas cias aéreas, nos aplicamos uma divisão de 1,80 para igualar as milhas ao pontos (considerando\n",
        "uma transferência bonificada de 80%)!\n",
        "\n",
        "Se você está gostando das nossas análises, deixe o seu like nessa mensagem ;)\n",
        "\n",
        "Ótimo dia a todos! Bora pra cima! 🚀\n",
        "\n",
        "Att @murilloinvestor\n",
        "\"\"\"\n",
        "\n",
        "print(texto_bom_dia)"
      ],
      "metadata": {
        "id": "oTQ1HkwRibKP",
        "colab": {
          "base_uri": "https://localhost:8080/"
        },
        "outputId": "fa1dffb5-2943-4402-8010-81f96454c389"
      },
      "execution_count": 12,
      "outputs": [
        {
          "output_type": "stream",
          "name": "stdout",
          "text": [
            "\n",
            "☀️ *Bom dia milheiros, quintou! 🚀* ✈️\n",
            "\n",
            "Antes de começar o dia, segue o nosso critério de análise para você aproveitar as melhores promoções no acúmulo de milhas:\n",
            "\n",
            "Nós avaliamos cada promoção em 5 níveis, com base no retorno de milhas/pontos:\n",
            "\n",
            "• *Nível 1 (Ruim) ⭐* Menos que 3 pontos → Sugiro aguardar algo melhor.\n",
            "• *Nível 2 (Mediano) ⭐⭐* 3 pontos ou mais → Use só se você já iria comprar de qualquer forma.\n",
            "• *Nível 3 (Bom) ⭐⭐⭐* → 6 pontos ou mais Bom para compras planejadas, mas ainda pode melhorar.\n",
            "• *Nível 4 (Muito Bom) ⭐⭐⭐⭐* 8 pontos ou mais → Ótima promoção. Daqui pra cima já vale muito a pena!\n",
            "• *Nível 5 (Excelente / Raro) ⭐⭐⭐⭐⭐* 12 pontos ou mais → Promoção rara, dessas que não aparecem toda hora. Aproveite sem medo!\n",
            "\n",
            "Quanto maior o nível, melhor o custo-benefício para acumular milhas/pontos.\n",
            "\n",
            "Obs: Em promoções diretamente nas cias aéreas, nos aplicamos uma divisão de 1,80 para igualar as milhas ao pontos (considerando\n",
            "uma transferência bonificada de 80%)!\n",
            "\n",
            "Se você está gostando das nossas análises, deixe o seu like nessa mensagem ;)\n",
            "\n",
            "Ótimo dia a todos! Bora pra cima! 🚀\n",
            "Att @murilloinvestor\n",
            "\n"
          ]
        }
      ]
    },
    {
      "cell_type": "markdown",
      "source": [
        "## Grupo de Perfumaria (08h am) GRUPO OK"
      ],
      "metadata": {
        "id": "HXQTszND79VQ"
      }
    },
    {
      "cell_type": "markdown",
      "source": [
        "### Loja Natura"
      ],
      "metadata": {
        "id": "_5RLIF4X4Dx8"
      }
    },
    {
      "cell_type": "code",
      "source": [
        "hora_atual = agora_brasilia.hour\n",
        "\n",
        "if hora_atual < hora_max_grupo_perfumaria_cosmeticos:\n",
        "    df_natura = coletar_promocoes(\n",
        "        url=\"https://www.comparemania.com.br/cashback-natura/\",\n",
        "        parceiro=\"Natura\",\n",
        "        data_formatada=data_formatada,\n",
        "        nomes_alvo=nomes_alvo\n",
        "    )\n",
        "    display(df_natura)\n",
        "else:\n",
        "    print(\"Fora do horário!\")"
      ],
      "metadata": {
        "colab": {
          "base_uri": "https://localhost:8080/",
          "height": 206
        },
        "id": "pHz_n_mLQMbZ",
        "outputId": "00fa3f09-857d-4dd1-e69c-0740b5303193"
      },
      "execution_count": 13,
      "outputs": [
        {
          "output_type": "display_data",
          "data": {
            "text/plain": [
              "         nome_clube  pontuacao_clube  \\\n",
              "0          🔴 Esfera              2.0   \n",
              "1          🟠 Smiles              4.5   \n",
              "2            🔵 Azul              4.0   \n",
              "3          🟣 Livelo              4.0   \n",
              "4  🔵 Shopping Latam              3.0   \n",
              "\n",
              "                                   analise_pontuacao parceiro  \\\n",
              "0    ⭐ Nível 1 (Ruim) 😡: Sugiro aguardar algo melhor   Natura   \n",
              "1    ⭐ Nível 1 (Ruim) 😡: Sugiro aguardar algo melhor   Natura   \n",
              "2    ⭐ Nível 1 (Ruim) 😡: Sugiro aguardar algo melhor   Natura   \n",
              "3  ⭐⭐ Nível 2 (Mediano) 🧐: Dá pra usar se você re...   Natura   \n",
              "4    ⭐ Nível 1 (Ruim) 😡: Sugiro aguardar algo melhor   Natura   \n",
              "\n",
              "  data_coleta_promocao  \n",
              "0           30/10/2025  \n",
              "1           30/10/2025  \n",
              "2           30/10/2025  \n",
              "3           30/10/2025  \n",
              "4           30/10/2025  "
            ],
            "text/html": [
              "\n",
              "  <div id=\"df-0cf9497b-0234-4b4c-8104-6fb10242fa98\" class=\"colab-df-container\">\n",
              "    <div>\n",
              "<style scoped>\n",
              "    .dataframe tbody tr th:only-of-type {\n",
              "        vertical-align: middle;\n",
              "    }\n",
              "\n",
              "    .dataframe tbody tr th {\n",
              "        vertical-align: top;\n",
              "    }\n",
              "\n",
              "    .dataframe thead th {\n",
              "        text-align: right;\n",
              "    }\n",
              "</style>\n",
              "<table border=\"1\" class=\"dataframe\">\n",
              "  <thead>\n",
              "    <tr style=\"text-align: right;\">\n",
              "      <th></th>\n",
              "      <th>nome_clube</th>\n",
              "      <th>pontuacao_clube</th>\n",
              "      <th>analise_pontuacao</th>\n",
              "      <th>parceiro</th>\n",
              "      <th>data_coleta_promocao</th>\n",
              "    </tr>\n",
              "  </thead>\n",
              "  <tbody>\n",
              "    <tr>\n",
              "      <th>0</th>\n",
              "      <td>🔴 Esfera</td>\n",
              "      <td>2.0</td>\n",
              "      <td>⭐ Nível 1 (Ruim) 😡: Sugiro aguardar algo melhor</td>\n",
              "      <td>Natura</td>\n",
              "      <td>30/10/2025</td>\n",
              "    </tr>\n",
              "    <tr>\n",
              "      <th>1</th>\n",
              "      <td>🟠 Smiles</td>\n",
              "      <td>4.5</td>\n",
              "      <td>⭐ Nível 1 (Ruim) 😡: Sugiro aguardar algo melhor</td>\n",
              "      <td>Natura</td>\n",
              "      <td>30/10/2025</td>\n",
              "    </tr>\n",
              "    <tr>\n",
              "      <th>2</th>\n",
              "      <td>🔵 Azul</td>\n",
              "      <td>4.0</td>\n",
              "      <td>⭐ Nível 1 (Ruim) 😡: Sugiro aguardar algo melhor</td>\n",
              "      <td>Natura</td>\n",
              "      <td>30/10/2025</td>\n",
              "    </tr>\n",
              "    <tr>\n",
              "      <th>3</th>\n",
              "      <td>🟣 Livelo</td>\n",
              "      <td>4.0</td>\n",
              "      <td>⭐⭐ Nível 2 (Mediano) 🧐: Dá pra usar se você re...</td>\n",
              "      <td>Natura</td>\n",
              "      <td>30/10/2025</td>\n",
              "    </tr>\n",
              "    <tr>\n",
              "      <th>4</th>\n",
              "      <td>🔵 Shopping Latam</td>\n",
              "      <td>3.0</td>\n",
              "      <td>⭐ Nível 1 (Ruim) 😡: Sugiro aguardar algo melhor</td>\n",
              "      <td>Natura</td>\n",
              "      <td>30/10/2025</td>\n",
              "    </tr>\n",
              "  </tbody>\n",
              "</table>\n",
              "</div>\n",
              "    <div class=\"colab-df-buttons\">\n",
              "\n",
              "  <div class=\"colab-df-container\">\n",
              "    <button class=\"colab-df-convert\" onclick=\"convertToInteractive('df-0cf9497b-0234-4b4c-8104-6fb10242fa98')\"\n",
              "            title=\"Convert this dataframe to an interactive table.\"\n",
              "            style=\"display:none;\">\n",
              "\n",
              "  <svg xmlns=\"http://www.w3.org/2000/svg\" height=\"24px\" viewBox=\"0 -960 960 960\">\n",
              "    <path d=\"M120-120v-720h720v720H120Zm60-500h600v-160H180v160Zm220 220h160v-160H400v160Zm0 220h160v-160H400v160ZM180-400h160v-160H180v160Zm440 0h160v-160H620v160ZM180-180h160v-160H180v160Zm440 0h160v-160H620v160Z\"/>\n",
              "  </svg>\n",
              "    </button>\n",
              "\n",
              "  <style>\n",
              "    .colab-df-container {\n",
              "      display:flex;\n",
              "      gap: 12px;\n",
              "    }\n",
              "\n",
              "    .colab-df-convert {\n",
              "      background-color: #E8F0FE;\n",
              "      border: none;\n",
              "      border-radius: 50%;\n",
              "      cursor: pointer;\n",
              "      display: none;\n",
              "      fill: #1967D2;\n",
              "      height: 32px;\n",
              "      padding: 0 0 0 0;\n",
              "      width: 32px;\n",
              "    }\n",
              "\n",
              "    .colab-df-convert:hover {\n",
              "      background-color: #E2EBFA;\n",
              "      box-shadow: 0px 1px 2px rgba(60, 64, 67, 0.3), 0px 1px 3px 1px rgba(60, 64, 67, 0.15);\n",
              "      fill: #174EA6;\n",
              "    }\n",
              "\n",
              "    .colab-df-buttons div {\n",
              "      margin-bottom: 4px;\n",
              "    }\n",
              "\n",
              "    [theme=dark] .colab-df-convert {\n",
              "      background-color: #3B4455;\n",
              "      fill: #D2E3FC;\n",
              "    }\n",
              "\n",
              "    [theme=dark] .colab-df-convert:hover {\n",
              "      background-color: #434B5C;\n",
              "      box-shadow: 0px 1px 3px 1px rgba(0, 0, 0, 0.15);\n",
              "      filter: drop-shadow(0px 1px 2px rgba(0, 0, 0, 0.3));\n",
              "      fill: #FFFFFF;\n",
              "    }\n",
              "  </style>\n",
              "\n",
              "    <script>\n",
              "      const buttonEl =\n",
              "        document.querySelector('#df-0cf9497b-0234-4b4c-8104-6fb10242fa98 button.colab-df-convert');\n",
              "      buttonEl.style.display =\n",
              "        google.colab.kernel.accessAllowed ? 'block' : 'none';\n",
              "\n",
              "      async function convertToInteractive(key) {\n",
              "        const element = document.querySelector('#df-0cf9497b-0234-4b4c-8104-6fb10242fa98');\n",
              "        const dataTable =\n",
              "          await google.colab.kernel.invokeFunction('convertToInteractive',\n",
              "                                                    [key], {});\n",
              "        if (!dataTable) return;\n",
              "\n",
              "        const docLinkHtml = 'Like what you see? Visit the ' +\n",
              "          '<a target=\"_blank\" href=https://colab.research.google.com/notebooks/data_table.ipynb>data table notebook</a>'\n",
              "          + ' to learn more about interactive tables.';\n",
              "        element.innerHTML = '';\n",
              "        dataTable['output_type'] = 'display_data';\n",
              "        await google.colab.output.renderOutput(dataTable, element);\n",
              "        const docLink = document.createElement('div');\n",
              "        docLink.innerHTML = docLinkHtml;\n",
              "        element.appendChild(docLink);\n",
              "      }\n",
              "    </script>\n",
              "  </div>\n",
              "\n",
              "\n",
              "    <div id=\"df-94389924-fb6c-4606-bb56-8e40a68be72a\">\n",
              "      <button class=\"colab-df-quickchart\" onclick=\"quickchart('df-94389924-fb6c-4606-bb56-8e40a68be72a')\"\n",
              "                title=\"Suggest charts\"\n",
              "                style=\"display:none;\">\n",
              "\n",
              "<svg xmlns=\"http://www.w3.org/2000/svg\" height=\"24px\"viewBox=\"0 0 24 24\"\n",
              "     width=\"24px\">\n",
              "    <g>\n",
              "        <path d=\"M19 3H5c-1.1 0-2 .9-2 2v14c0 1.1.9 2 2 2h14c1.1 0 2-.9 2-2V5c0-1.1-.9-2-2-2zM9 17H7v-7h2v7zm4 0h-2V7h2v10zm4 0h-2v-4h2v4z\"/>\n",
              "    </g>\n",
              "</svg>\n",
              "      </button>\n",
              "\n",
              "<style>\n",
              "  .colab-df-quickchart {\n",
              "      --bg-color: #E8F0FE;\n",
              "      --fill-color: #1967D2;\n",
              "      --hover-bg-color: #E2EBFA;\n",
              "      --hover-fill-color: #174EA6;\n",
              "      --disabled-fill-color: #AAA;\n",
              "      --disabled-bg-color: #DDD;\n",
              "  }\n",
              "\n",
              "  [theme=dark] .colab-df-quickchart {\n",
              "      --bg-color: #3B4455;\n",
              "      --fill-color: #D2E3FC;\n",
              "      --hover-bg-color: #434B5C;\n",
              "      --hover-fill-color: #FFFFFF;\n",
              "      --disabled-bg-color: #3B4455;\n",
              "      --disabled-fill-color: #666;\n",
              "  }\n",
              "\n",
              "  .colab-df-quickchart {\n",
              "    background-color: var(--bg-color);\n",
              "    border: none;\n",
              "    border-radius: 50%;\n",
              "    cursor: pointer;\n",
              "    display: none;\n",
              "    fill: var(--fill-color);\n",
              "    height: 32px;\n",
              "    padding: 0;\n",
              "    width: 32px;\n",
              "  }\n",
              "\n",
              "  .colab-df-quickchart:hover {\n",
              "    background-color: var(--hover-bg-color);\n",
              "    box-shadow: 0 1px 2px rgba(60, 64, 67, 0.3), 0 1px 3px 1px rgba(60, 64, 67, 0.15);\n",
              "    fill: var(--button-hover-fill-color);\n",
              "  }\n",
              "\n",
              "  .colab-df-quickchart-complete:disabled,\n",
              "  .colab-df-quickchart-complete:disabled:hover {\n",
              "    background-color: var(--disabled-bg-color);\n",
              "    fill: var(--disabled-fill-color);\n",
              "    box-shadow: none;\n",
              "  }\n",
              "\n",
              "  .colab-df-spinner {\n",
              "    border: 2px solid var(--fill-color);\n",
              "    border-color: transparent;\n",
              "    border-bottom-color: var(--fill-color);\n",
              "    animation:\n",
              "      spin 1s steps(1) infinite;\n",
              "  }\n",
              "\n",
              "  @keyframes spin {\n",
              "    0% {\n",
              "      border-color: transparent;\n",
              "      border-bottom-color: var(--fill-color);\n",
              "      border-left-color: var(--fill-color);\n",
              "    }\n",
              "    20% {\n",
              "      border-color: transparent;\n",
              "      border-left-color: var(--fill-color);\n",
              "      border-top-color: var(--fill-color);\n",
              "    }\n",
              "    30% {\n",
              "      border-color: transparent;\n",
              "      border-left-color: var(--fill-color);\n",
              "      border-top-color: var(--fill-color);\n",
              "      border-right-color: var(--fill-color);\n",
              "    }\n",
              "    40% {\n",
              "      border-color: transparent;\n",
              "      border-right-color: var(--fill-color);\n",
              "      border-top-color: var(--fill-color);\n",
              "    }\n",
              "    60% {\n",
              "      border-color: transparent;\n",
              "      border-right-color: var(--fill-color);\n",
              "    }\n",
              "    80% {\n",
              "      border-color: transparent;\n",
              "      border-right-color: var(--fill-color);\n",
              "      border-bottom-color: var(--fill-color);\n",
              "    }\n",
              "    90% {\n",
              "      border-color: transparent;\n",
              "      border-bottom-color: var(--fill-color);\n",
              "    }\n",
              "  }\n",
              "</style>\n",
              "\n",
              "      <script>\n",
              "        async function quickchart(key) {\n",
              "          const quickchartButtonEl =\n",
              "            document.querySelector('#' + key + ' button');\n",
              "          quickchartButtonEl.disabled = true;  // To prevent multiple clicks.\n",
              "          quickchartButtonEl.classList.add('colab-df-spinner');\n",
              "          try {\n",
              "            const charts = await google.colab.kernel.invokeFunction(\n",
              "                'suggestCharts', [key], {});\n",
              "          } catch (error) {\n",
              "            console.error('Error during call to suggestCharts:', error);\n",
              "          }\n",
              "          quickchartButtonEl.classList.remove('colab-df-spinner');\n",
              "          quickchartButtonEl.classList.add('colab-df-quickchart-complete');\n",
              "        }\n",
              "        (() => {\n",
              "          let quickchartButtonEl =\n",
              "            document.querySelector('#df-94389924-fb6c-4606-bb56-8e40a68be72a button');\n",
              "          quickchartButtonEl.style.display =\n",
              "            google.colab.kernel.accessAllowed ? 'block' : 'none';\n",
              "        })();\n",
              "      </script>\n",
              "    </div>\n",
              "\n",
              "  <div id=\"id_979a2f69-2c9b-4171-be82-4807d3aeb6e8\">\n",
              "    <style>\n",
              "      .colab-df-generate {\n",
              "        background-color: #E8F0FE;\n",
              "        border: none;\n",
              "        border-radius: 50%;\n",
              "        cursor: pointer;\n",
              "        display: none;\n",
              "        fill: #1967D2;\n",
              "        height: 32px;\n",
              "        padding: 0 0 0 0;\n",
              "        width: 32px;\n",
              "      }\n",
              "\n",
              "      .colab-df-generate:hover {\n",
              "        background-color: #E2EBFA;\n",
              "        box-shadow: 0px 1px 2px rgba(60, 64, 67, 0.3), 0px 1px 3px 1px rgba(60, 64, 67, 0.15);\n",
              "        fill: #174EA6;\n",
              "      }\n",
              "\n",
              "      [theme=dark] .colab-df-generate {\n",
              "        background-color: #3B4455;\n",
              "        fill: #D2E3FC;\n",
              "      }\n",
              "\n",
              "      [theme=dark] .colab-df-generate:hover {\n",
              "        background-color: #434B5C;\n",
              "        box-shadow: 0px 1px 3px 1px rgba(0, 0, 0, 0.15);\n",
              "        filter: drop-shadow(0px 1px 2px rgba(0, 0, 0, 0.3));\n",
              "        fill: #FFFFFF;\n",
              "      }\n",
              "    </style>\n",
              "    <button class=\"colab-df-generate\" onclick=\"generateWithVariable('df_natura')\"\n",
              "            title=\"Generate code using this dataframe.\"\n",
              "            style=\"display:none;\">\n",
              "\n",
              "  <svg xmlns=\"http://www.w3.org/2000/svg\" height=\"24px\"viewBox=\"0 0 24 24\"\n",
              "       width=\"24px\">\n",
              "    <path d=\"M7,19H8.4L18.45,9,17,7.55,7,17.6ZM5,21V16.75L18.45,3.32a2,2,0,0,1,2.83,0l1.4,1.43a1.91,1.91,0,0,1,.58,1.4,1.91,1.91,0,0,1-.58,1.4L9.25,21ZM18.45,9,17,7.55Zm-12,3A5.31,5.31,0,0,0,4.9,8.1,5.31,5.31,0,0,0,1,6.5,5.31,5.31,0,0,0,4.9,4.9,5.31,5.31,0,0,0,6.5,1,5.31,5.31,0,0,0,8.1,4.9,5.31,5.31,0,0,0,12,6.5,5.46,5.46,0,0,0,6.5,12Z\"/>\n",
              "  </svg>\n",
              "    </button>\n",
              "    <script>\n",
              "      (() => {\n",
              "      const buttonEl =\n",
              "        document.querySelector('#id_979a2f69-2c9b-4171-be82-4807d3aeb6e8 button.colab-df-generate');\n",
              "      buttonEl.style.display =\n",
              "        google.colab.kernel.accessAllowed ? 'block' : 'none';\n",
              "\n",
              "      buttonEl.onclick = () => {\n",
              "        google.colab.notebook.generateWithVariable('df_natura');\n",
              "      }\n",
              "      })();\n",
              "    </script>\n",
              "  </div>\n",
              "\n",
              "    </div>\n",
              "  </div>\n"
            ],
            "application/vnd.google.colaboratory.intrinsic+json": {
              "type": "dataframe",
              "variable_name": "df_natura",
              "summary": "{\n  \"name\": \"df_natura\",\n  \"rows\": 5,\n  \"fields\": [\n    {\n      \"column\": \"nome_clube\",\n      \"properties\": {\n        \"dtype\": \"string\",\n        \"num_unique_values\": 5,\n        \"samples\": [\n          \"\\ud83d\\udfe0 Smiles\",\n          \"\\ud83d\\udd35 Shopping Latam\",\n          \"\\ud83d\\udd35 Azul\"\n        ],\n        \"semantic_type\": \"\",\n        \"description\": \"\"\n      }\n    },\n    {\n      \"column\": \"pontuacao_clube\",\n      \"properties\": {\n        \"dtype\": \"number\",\n        \"std\": 1.0,\n        \"min\": 2.0,\n        \"max\": 4.5,\n        \"num_unique_values\": 4,\n        \"samples\": [\n          4.5,\n          3.0,\n          2.0\n        ],\n        \"semantic_type\": \"\",\n        \"description\": \"\"\n      }\n    },\n    {\n      \"column\": \"analise_pontuacao\",\n      \"properties\": {\n        \"dtype\": \"category\",\n        \"num_unique_values\": 2,\n        \"samples\": [\n          \"\\u2b50\\u2b50 N\\u00edvel 2 (Mediano) \\ud83e\\uddd0: D\\u00e1 pra usar se voc\\u00ea realmente j\\u00e1 iria comprar, mas \\u00e9 melhor aguardar algo melhor ;)\",\n          \"\\u2b50 N\\u00edvel 1 (Ruim) \\ud83d\\ude21: Sugiro aguardar algo melhor\"\n        ],\n        \"semantic_type\": \"\",\n        \"description\": \"\"\n      }\n    },\n    {\n      \"column\": \"parceiro\",\n      \"properties\": {\n        \"dtype\": \"category\",\n        \"num_unique_values\": 1,\n        \"samples\": [\n          \"Natura\"\n        ],\n        \"semantic_type\": \"\",\n        \"description\": \"\"\n      }\n    },\n    {\n      \"column\": \"data_coleta_promocao\",\n      \"properties\": {\n        \"dtype\": \"object\",\n        \"num_unique_values\": 1,\n        \"samples\": [\n          \"30/10/2025\"\n        ],\n        \"semantic_type\": \"\",\n        \"description\": \"\"\n      }\n    }\n  ]\n}"
            }
          },
          "metadata": {}
        }
      ]
    },
    {
      "cell_type": "markdown",
      "source": [
        "### Loja Boticário"
      ],
      "metadata": {
        "id": "eEbCe6Zn5Vwt"
      }
    },
    {
      "cell_type": "code",
      "source": [
        "hora_atual = agora_brasilia.hour\n",
        "\n",
        "if hora_atual < hora_max_grupo_perfumaria_cosmeticos:\n",
        "    df_boticario = coletar_promocoes(\n",
        "        url=\"https://www.comparemania.com.br/cashback-boticario/\",\n",
        "        parceiro=\"Boticário\",\n",
        "        data_formatada=data_formatada,\n",
        "        nomes_alvo=nomes_alvo\n",
        "    )\n",
        "    display(df_boticario)\n",
        "else:\n",
        "    print(\"Fora do horário!\")"
      ],
      "metadata": {
        "colab": {
          "base_uri": "https://localhost:8080/",
          "height": 125
        },
        "id": "VrKEhVIKRMTp",
        "outputId": "95b84e85-89b6-45fe-da4d-a3ac5a10f84e"
      },
      "execution_count": 14,
      "outputs": [
        {
          "output_type": "display_data",
          "data": {
            "text/plain": [
              "  nome_clube  pontuacao_clube  \\\n",
              "0   🟣 Livelo                6   \n",
              "1   🔴 Esfera                2   \n",
              "\n",
              "                                   analise_pontuacao   parceiro  \\\n",
              "0  ⭐⭐⭐ Nível 3 (Bom) 😉: Bom momento para potencia...  Boticario   \n",
              "1    ⭐ Nível 1 (Ruim) 😡: Sugiro aguardar algo melhor  Boticario   \n",
              "\n",
              "  data_coleta_promocao  \n",
              "0           30/10/2025  \n",
              "1           30/10/2025  "
            ],
            "text/html": [
              "\n",
              "  <div id=\"df-37b3d220-5162-498e-b24a-7c19c7a760b7\" class=\"colab-df-container\">\n",
              "    <div>\n",
              "<style scoped>\n",
              "    .dataframe tbody tr th:only-of-type {\n",
              "        vertical-align: middle;\n",
              "    }\n",
              "\n",
              "    .dataframe tbody tr th {\n",
              "        vertical-align: top;\n",
              "    }\n",
              "\n",
              "    .dataframe thead th {\n",
              "        text-align: right;\n",
              "    }\n",
              "</style>\n",
              "<table border=\"1\" class=\"dataframe\">\n",
              "  <thead>\n",
              "    <tr style=\"text-align: right;\">\n",
              "      <th></th>\n",
              "      <th>nome_clube</th>\n",
              "      <th>pontuacao_clube</th>\n",
              "      <th>analise_pontuacao</th>\n",
              "      <th>parceiro</th>\n",
              "      <th>data_coleta_promocao</th>\n",
              "    </tr>\n",
              "  </thead>\n",
              "  <tbody>\n",
              "    <tr>\n",
              "      <th>0</th>\n",
              "      <td>🟣 Livelo</td>\n",
              "      <td>6</td>\n",
              "      <td>⭐⭐⭐ Nível 3 (Bom) 😉: Bom momento para potencia...</td>\n",
              "      <td>Boticario</td>\n",
              "      <td>30/10/2025</td>\n",
              "    </tr>\n",
              "    <tr>\n",
              "      <th>1</th>\n",
              "      <td>🔴 Esfera</td>\n",
              "      <td>2</td>\n",
              "      <td>⭐ Nível 1 (Ruim) 😡: Sugiro aguardar algo melhor</td>\n",
              "      <td>Boticario</td>\n",
              "      <td>30/10/2025</td>\n",
              "    </tr>\n",
              "  </tbody>\n",
              "</table>\n",
              "</div>\n",
              "    <div class=\"colab-df-buttons\">\n",
              "\n",
              "  <div class=\"colab-df-container\">\n",
              "    <button class=\"colab-df-convert\" onclick=\"convertToInteractive('df-37b3d220-5162-498e-b24a-7c19c7a760b7')\"\n",
              "            title=\"Convert this dataframe to an interactive table.\"\n",
              "            style=\"display:none;\">\n",
              "\n",
              "  <svg xmlns=\"http://www.w3.org/2000/svg\" height=\"24px\" viewBox=\"0 -960 960 960\">\n",
              "    <path d=\"M120-120v-720h720v720H120Zm60-500h600v-160H180v160Zm220 220h160v-160H400v160Zm0 220h160v-160H400v160ZM180-400h160v-160H180v160Zm440 0h160v-160H620v160ZM180-180h160v-160H180v160Zm440 0h160v-160H620v160Z\"/>\n",
              "  </svg>\n",
              "    </button>\n",
              "\n",
              "  <style>\n",
              "    .colab-df-container {\n",
              "      display:flex;\n",
              "      gap: 12px;\n",
              "    }\n",
              "\n",
              "    .colab-df-convert {\n",
              "      background-color: #E8F0FE;\n",
              "      border: none;\n",
              "      border-radius: 50%;\n",
              "      cursor: pointer;\n",
              "      display: none;\n",
              "      fill: #1967D2;\n",
              "      height: 32px;\n",
              "      padding: 0 0 0 0;\n",
              "      width: 32px;\n",
              "    }\n",
              "\n",
              "    .colab-df-convert:hover {\n",
              "      background-color: #E2EBFA;\n",
              "      box-shadow: 0px 1px 2px rgba(60, 64, 67, 0.3), 0px 1px 3px 1px rgba(60, 64, 67, 0.15);\n",
              "      fill: #174EA6;\n",
              "    }\n",
              "\n",
              "    .colab-df-buttons div {\n",
              "      margin-bottom: 4px;\n",
              "    }\n",
              "\n",
              "    [theme=dark] .colab-df-convert {\n",
              "      background-color: #3B4455;\n",
              "      fill: #D2E3FC;\n",
              "    }\n",
              "\n",
              "    [theme=dark] .colab-df-convert:hover {\n",
              "      background-color: #434B5C;\n",
              "      box-shadow: 0px 1px 3px 1px rgba(0, 0, 0, 0.15);\n",
              "      filter: drop-shadow(0px 1px 2px rgba(0, 0, 0, 0.3));\n",
              "      fill: #FFFFFF;\n",
              "    }\n",
              "  </style>\n",
              "\n",
              "    <script>\n",
              "      const buttonEl =\n",
              "        document.querySelector('#df-37b3d220-5162-498e-b24a-7c19c7a760b7 button.colab-df-convert');\n",
              "      buttonEl.style.display =\n",
              "        google.colab.kernel.accessAllowed ? 'block' : 'none';\n",
              "\n",
              "      async function convertToInteractive(key) {\n",
              "        const element = document.querySelector('#df-37b3d220-5162-498e-b24a-7c19c7a760b7');\n",
              "        const dataTable =\n",
              "          await google.colab.kernel.invokeFunction('convertToInteractive',\n",
              "                                                    [key], {});\n",
              "        if (!dataTable) return;\n",
              "\n",
              "        const docLinkHtml = 'Like what you see? Visit the ' +\n",
              "          '<a target=\"_blank\" href=https://colab.research.google.com/notebooks/data_table.ipynb>data table notebook</a>'\n",
              "          + ' to learn more about interactive tables.';\n",
              "        element.innerHTML = '';\n",
              "        dataTable['output_type'] = 'display_data';\n",
              "        await google.colab.output.renderOutput(dataTable, element);\n",
              "        const docLink = document.createElement('div');\n",
              "        docLink.innerHTML = docLinkHtml;\n",
              "        element.appendChild(docLink);\n",
              "      }\n",
              "    </script>\n",
              "  </div>\n",
              "\n",
              "\n",
              "    <div id=\"df-70ab635b-1945-4660-91d1-0ca0372c530c\">\n",
              "      <button class=\"colab-df-quickchart\" onclick=\"quickchart('df-70ab635b-1945-4660-91d1-0ca0372c530c')\"\n",
              "                title=\"Suggest charts\"\n",
              "                style=\"display:none;\">\n",
              "\n",
              "<svg xmlns=\"http://www.w3.org/2000/svg\" height=\"24px\"viewBox=\"0 0 24 24\"\n",
              "     width=\"24px\">\n",
              "    <g>\n",
              "        <path d=\"M19 3H5c-1.1 0-2 .9-2 2v14c0 1.1.9 2 2 2h14c1.1 0 2-.9 2-2V5c0-1.1-.9-2-2-2zM9 17H7v-7h2v7zm4 0h-2V7h2v10zm4 0h-2v-4h2v4z\"/>\n",
              "    </g>\n",
              "</svg>\n",
              "      </button>\n",
              "\n",
              "<style>\n",
              "  .colab-df-quickchart {\n",
              "      --bg-color: #E8F0FE;\n",
              "      --fill-color: #1967D2;\n",
              "      --hover-bg-color: #E2EBFA;\n",
              "      --hover-fill-color: #174EA6;\n",
              "      --disabled-fill-color: #AAA;\n",
              "      --disabled-bg-color: #DDD;\n",
              "  }\n",
              "\n",
              "  [theme=dark] .colab-df-quickchart {\n",
              "      --bg-color: #3B4455;\n",
              "      --fill-color: #D2E3FC;\n",
              "      --hover-bg-color: #434B5C;\n",
              "      --hover-fill-color: #FFFFFF;\n",
              "      --disabled-bg-color: #3B4455;\n",
              "      --disabled-fill-color: #666;\n",
              "  }\n",
              "\n",
              "  .colab-df-quickchart {\n",
              "    background-color: var(--bg-color);\n",
              "    border: none;\n",
              "    border-radius: 50%;\n",
              "    cursor: pointer;\n",
              "    display: none;\n",
              "    fill: var(--fill-color);\n",
              "    height: 32px;\n",
              "    padding: 0;\n",
              "    width: 32px;\n",
              "  }\n",
              "\n",
              "  .colab-df-quickchart:hover {\n",
              "    background-color: var(--hover-bg-color);\n",
              "    box-shadow: 0 1px 2px rgba(60, 64, 67, 0.3), 0 1px 3px 1px rgba(60, 64, 67, 0.15);\n",
              "    fill: var(--button-hover-fill-color);\n",
              "  }\n",
              "\n",
              "  .colab-df-quickchart-complete:disabled,\n",
              "  .colab-df-quickchart-complete:disabled:hover {\n",
              "    background-color: var(--disabled-bg-color);\n",
              "    fill: var(--disabled-fill-color);\n",
              "    box-shadow: none;\n",
              "  }\n",
              "\n",
              "  .colab-df-spinner {\n",
              "    border: 2px solid var(--fill-color);\n",
              "    border-color: transparent;\n",
              "    border-bottom-color: var(--fill-color);\n",
              "    animation:\n",
              "      spin 1s steps(1) infinite;\n",
              "  }\n",
              "\n",
              "  @keyframes spin {\n",
              "    0% {\n",
              "      border-color: transparent;\n",
              "      border-bottom-color: var(--fill-color);\n",
              "      border-left-color: var(--fill-color);\n",
              "    }\n",
              "    20% {\n",
              "      border-color: transparent;\n",
              "      border-left-color: var(--fill-color);\n",
              "      border-top-color: var(--fill-color);\n",
              "    }\n",
              "    30% {\n",
              "      border-color: transparent;\n",
              "      border-left-color: var(--fill-color);\n",
              "      border-top-color: var(--fill-color);\n",
              "      border-right-color: var(--fill-color);\n",
              "    }\n",
              "    40% {\n",
              "      border-color: transparent;\n",
              "      border-right-color: var(--fill-color);\n",
              "      border-top-color: var(--fill-color);\n",
              "    }\n",
              "    60% {\n",
              "      border-color: transparent;\n",
              "      border-right-color: var(--fill-color);\n",
              "    }\n",
              "    80% {\n",
              "      border-color: transparent;\n",
              "      border-right-color: var(--fill-color);\n",
              "      border-bottom-color: var(--fill-color);\n",
              "    }\n",
              "    90% {\n",
              "      border-color: transparent;\n",
              "      border-bottom-color: var(--fill-color);\n",
              "    }\n",
              "  }\n",
              "</style>\n",
              "\n",
              "      <script>\n",
              "        async function quickchart(key) {\n",
              "          const quickchartButtonEl =\n",
              "            document.querySelector('#' + key + ' button');\n",
              "          quickchartButtonEl.disabled = true;  // To prevent multiple clicks.\n",
              "          quickchartButtonEl.classList.add('colab-df-spinner');\n",
              "          try {\n",
              "            const charts = await google.colab.kernel.invokeFunction(\n",
              "                'suggestCharts', [key], {});\n",
              "          } catch (error) {\n",
              "            console.error('Error during call to suggestCharts:', error);\n",
              "          }\n",
              "          quickchartButtonEl.classList.remove('colab-df-spinner');\n",
              "          quickchartButtonEl.classList.add('colab-df-quickchart-complete');\n",
              "        }\n",
              "        (() => {\n",
              "          let quickchartButtonEl =\n",
              "            document.querySelector('#df-70ab635b-1945-4660-91d1-0ca0372c530c button');\n",
              "          quickchartButtonEl.style.display =\n",
              "            google.colab.kernel.accessAllowed ? 'block' : 'none';\n",
              "        })();\n",
              "      </script>\n",
              "    </div>\n",
              "\n",
              "  <div id=\"id_b146ca30-f819-4f78-a372-f2c098693051\">\n",
              "    <style>\n",
              "      .colab-df-generate {\n",
              "        background-color: #E8F0FE;\n",
              "        border: none;\n",
              "        border-radius: 50%;\n",
              "        cursor: pointer;\n",
              "        display: none;\n",
              "        fill: #1967D2;\n",
              "        height: 32px;\n",
              "        padding: 0 0 0 0;\n",
              "        width: 32px;\n",
              "      }\n",
              "\n",
              "      .colab-df-generate:hover {\n",
              "        background-color: #E2EBFA;\n",
              "        box-shadow: 0px 1px 2px rgba(60, 64, 67, 0.3), 0px 1px 3px 1px rgba(60, 64, 67, 0.15);\n",
              "        fill: #174EA6;\n",
              "      }\n",
              "\n",
              "      [theme=dark] .colab-df-generate {\n",
              "        background-color: #3B4455;\n",
              "        fill: #D2E3FC;\n",
              "      }\n",
              "\n",
              "      [theme=dark] .colab-df-generate:hover {\n",
              "        background-color: #434B5C;\n",
              "        box-shadow: 0px 1px 3px 1px rgba(0, 0, 0, 0.15);\n",
              "        filter: drop-shadow(0px 1px 2px rgba(0, 0, 0, 0.3));\n",
              "        fill: #FFFFFF;\n",
              "      }\n",
              "    </style>\n",
              "    <button class=\"colab-df-generate\" onclick=\"generateWithVariable('df_boticario')\"\n",
              "            title=\"Generate code using this dataframe.\"\n",
              "            style=\"display:none;\">\n",
              "\n",
              "  <svg xmlns=\"http://www.w3.org/2000/svg\" height=\"24px\"viewBox=\"0 0 24 24\"\n",
              "       width=\"24px\">\n",
              "    <path d=\"M7,19H8.4L18.45,9,17,7.55,7,17.6ZM5,21V16.75L18.45,3.32a2,2,0,0,1,2.83,0l1.4,1.43a1.91,1.91,0,0,1,.58,1.4,1.91,1.91,0,0,1-.58,1.4L9.25,21ZM18.45,9,17,7.55Zm-12,3A5.31,5.31,0,0,0,4.9,8.1,5.31,5.31,0,0,0,1,6.5,5.31,5.31,0,0,0,4.9,4.9,5.31,5.31,0,0,0,6.5,1,5.31,5.31,0,0,0,8.1,4.9,5.31,5.31,0,0,0,12,6.5,5.46,5.46,0,0,0,6.5,12Z\"/>\n",
              "  </svg>\n",
              "    </button>\n",
              "    <script>\n",
              "      (() => {\n",
              "      const buttonEl =\n",
              "        document.querySelector('#id_b146ca30-f819-4f78-a372-f2c098693051 button.colab-df-generate');\n",
              "      buttonEl.style.display =\n",
              "        google.colab.kernel.accessAllowed ? 'block' : 'none';\n",
              "\n",
              "      buttonEl.onclick = () => {\n",
              "        google.colab.notebook.generateWithVariable('df_boticario');\n",
              "      }\n",
              "      })();\n",
              "    </script>\n",
              "  </div>\n",
              "\n",
              "    </div>\n",
              "  </div>\n"
            ],
            "application/vnd.google.colaboratory.intrinsic+json": {
              "type": "dataframe",
              "variable_name": "df_boticario",
              "summary": "{\n  \"name\": \"df_boticario\",\n  \"rows\": 2,\n  \"fields\": [\n    {\n      \"column\": \"nome_clube\",\n      \"properties\": {\n        \"dtype\": \"string\",\n        \"num_unique_values\": 2,\n        \"samples\": [\n          \"\\ud83d\\udd34 Esfera\",\n          \"\\ud83d\\udfe3 Livelo\"\n        ],\n        \"semantic_type\": \"\",\n        \"description\": \"\"\n      }\n    },\n    {\n      \"column\": \"pontuacao_clube\",\n      \"properties\": {\n        \"dtype\": \"number\",\n        \"std\": 2,\n        \"min\": 2,\n        \"max\": 6,\n        \"num_unique_values\": 2,\n        \"samples\": [\n          2,\n          6\n        ],\n        \"semantic_type\": \"\",\n        \"description\": \"\"\n      }\n    },\n    {\n      \"column\": \"analise_pontuacao\",\n      \"properties\": {\n        \"dtype\": \"string\",\n        \"num_unique_values\": 2,\n        \"samples\": [\n          \"\\u2b50 N\\u00edvel 1 (Ruim) \\ud83d\\ude21: Sugiro aguardar algo melhor\",\n          \"\\u2b50\\u2b50\\u2b50 N\\u00edvel 3 (Bom) \\ud83d\\ude09: Bom momento para potencializar compras planejadas, mas se puder aguardar, tem coisa melhor!\"\n        ],\n        \"semantic_type\": \"\",\n        \"description\": \"\"\n      }\n    },\n    {\n      \"column\": \"parceiro\",\n      \"properties\": {\n        \"dtype\": \"string\",\n        \"num_unique_values\": 1,\n        \"samples\": [\n          \"Boticario\"\n        ],\n        \"semantic_type\": \"\",\n        \"description\": \"\"\n      }\n    },\n    {\n      \"column\": \"data_coleta_promocao\",\n      \"properties\": {\n        \"dtype\": \"object\",\n        \"num_unique_values\": 1,\n        \"samples\": [\n          \"30/10/2025\"\n        ],\n        \"semantic_type\": \"\",\n        \"description\": \"\"\n      }\n    }\n  ]\n}"
            }
          },
          "metadata": {}
        }
      ]
    },
    {
      "cell_type": "markdown",
      "source": [
        "### Loja Eudora"
      ],
      "metadata": {
        "id": "vDafn1I5z8rJ"
      }
    },
    {
      "cell_type": "code",
      "source": [
        "hora_atual = agora_brasilia.hour\n",
        "\n",
        "if hora_atual < hora_max_grupo_perfumaria_cosmeticos:\n",
        "    df_eudora = coletar_promocoes(\n",
        "        url=\"https://www.comparemania.com.br/cashback-eudora/\",\n",
        "        parceiro=\"Eudora\",\n",
        "        data_formatada=data_formatada,\n",
        "        nomes_alvo=nomes_alvo\n",
        "    )\n",
        "    display(df_eudora)\n",
        "else:\n",
        "    print(\"Fora do horário!\")"
      ],
      "metadata": {
        "colab": {
          "base_uri": "https://localhost:8080/",
          "height": 125
        },
        "id": "Fxf8MHdU0BAY",
        "outputId": "97530c9b-a2be-4472-d6f5-957c73bc51fc"
      },
      "execution_count": 15,
      "outputs": [
        {
          "output_type": "display_data",
          "data": {
            "text/plain": [
              "  nome_clube  pontuacao_clube  \\\n",
              "0   🟣 Livelo                2   \n",
              "1   🔴 Esfera                1   \n",
              "\n",
              "                                 analise_pontuacao parceiro  \\\n",
              "0  ⭐ Nível 1 (Ruim) 😡: Sugiro aguardar algo melhor   Eudora   \n",
              "1  ⭐ Nível 1 (Ruim) 😡: Sugiro aguardar algo melhor   Eudora   \n",
              "\n",
              "  data_coleta_promocao  \n",
              "0           30/10/2025  \n",
              "1           30/10/2025  "
            ],
            "text/html": [
              "\n",
              "  <div id=\"df-404c40b2-d7e6-4447-891d-0d8124dbbaf7\" class=\"colab-df-container\">\n",
              "    <div>\n",
              "<style scoped>\n",
              "    .dataframe tbody tr th:only-of-type {\n",
              "        vertical-align: middle;\n",
              "    }\n",
              "\n",
              "    .dataframe tbody tr th {\n",
              "        vertical-align: top;\n",
              "    }\n",
              "\n",
              "    .dataframe thead th {\n",
              "        text-align: right;\n",
              "    }\n",
              "</style>\n",
              "<table border=\"1\" class=\"dataframe\">\n",
              "  <thead>\n",
              "    <tr style=\"text-align: right;\">\n",
              "      <th></th>\n",
              "      <th>nome_clube</th>\n",
              "      <th>pontuacao_clube</th>\n",
              "      <th>analise_pontuacao</th>\n",
              "      <th>parceiro</th>\n",
              "      <th>data_coleta_promocao</th>\n",
              "    </tr>\n",
              "  </thead>\n",
              "  <tbody>\n",
              "    <tr>\n",
              "      <th>0</th>\n",
              "      <td>🟣 Livelo</td>\n",
              "      <td>2</td>\n",
              "      <td>⭐ Nível 1 (Ruim) 😡: Sugiro aguardar algo melhor</td>\n",
              "      <td>Eudora</td>\n",
              "      <td>30/10/2025</td>\n",
              "    </tr>\n",
              "    <tr>\n",
              "      <th>1</th>\n",
              "      <td>🔴 Esfera</td>\n",
              "      <td>1</td>\n",
              "      <td>⭐ Nível 1 (Ruim) 😡: Sugiro aguardar algo melhor</td>\n",
              "      <td>Eudora</td>\n",
              "      <td>30/10/2025</td>\n",
              "    </tr>\n",
              "  </tbody>\n",
              "</table>\n",
              "</div>\n",
              "    <div class=\"colab-df-buttons\">\n",
              "\n",
              "  <div class=\"colab-df-container\">\n",
              "    <button class=\"colab-df-convert\" onclick=\"convertToInteractive('df-404c40b2-d7e6-4447-891d-0d8124dbbaf7')\"\n",
              "            title=\"Convert this dataframe to an interactive table.\"\n",
              "            style=\"display:none;\">\n",
              "\n",
              "  <svg xmlns=\"http://www.w3.org/2000/svg\" height=\"24px\" viewBox=\"0 -960 960 960\">\n",
              "    <path d=\"M120-120v-720h720v720H120Zm60-500h600v-160H180v160Zm220 220h160v-160H400v160Zm0 220h160v-160H400v160ZM180-400h160v-160H180v160Zm440 0h160v-160H620v160ZM180-180h160v-160H180v160Zm440 0h160v-160H620v160Z\"/>\n",
              "  </svg>\n",
              "    </button>\n",
              "\n",
              "  <style>\n",
              "    .colab-df-container {\n",
              "      display:flex;\n",
              "      gap: 12px;\n",
              "    }\n",
              "\n",
              "    .colab-df-convert {\n",
              "      background-color: #E8F0FE;\n",
              "      border: none;\n",
              "      border-radius: 50%;\n",
              "      cursor: pointer;\n",
              "      display: none;\n",
              "      fill: #1967D2;\n",
              "      height: 32px;\n",
              "      padding: 0 0 0 0;\n",
              "      width: 32px;\n",
              "    }\n",
              "\n",
              "    .colab-df-convert:hover {\n",
              "      background-color: #E2EBFA;\n",
              "      box-shadow: 0px 1px 2px rgba(60, 64, 67, 0.3), 0px 1px 3px 1px rgba(60, 64, 67, 0.15);\n",
              "      fill: #174EA6;\n",
              "    }\n",
              "\n",
              "    .colab-df-buttons div {\n",
              "      margin-bottom: 4px;\n",
              "    }\n",
              "\n",
              "    [theme=dark] .colab-df-convert {\n",
              "      background-color: #3B4455;\n",
              "      fill: #D2E3FC;\n",
              "    }\n",
              "\n",
              "    [theme=dark] .colab-df-convert:hover {\n",
              "      background-color: #434B5C;\n",
              "      box-shadow: 0px 1px 3px 1px rgba(0, 0, 0, 0.15);\n",
              "      filter: drop-shadow(0px 1px 2px rgba(0, 0, 0, 0.3));\n",
              "      fill: #FFFFFF;\n",
              "    }\n",
              "  </style>\n",
              "\n",
              "    <script>\n",
              "      const buttonEl =\n",
              "        document.querySelector('#df-404c40b2-d7e6-4447-891d-0d8124dbbaf7 button.colab-df-convert');\n",
              "      buttonEl.style.display =\n",
              "        google.colab.kernel.accessAllowed ? 'block' : 'none';\n",
              "\n",
              "      async function convertToInteractive(key) {\n",
              "        const element = document.querySelector('#df-404c40b2-d7e6-4447-891d-0d8124dbbaf7');\n",
              "        const dataTable =\n",
              "          await google.colab.kernel.invokeFunction('convertToInteractive',\n",
              "                                                    [key], {});\n",
              "        if (!dataTable) return;\n",
              "\n",
              "        const docLinkHtml = 'Like what you see? Visit the ' +\n",
              "          '<a target=\"_blank\" href=https://colab.research.google.com/notebooks/data_table.ipynb>data table notebook</a>'\n",
              "          + ' to learn more about interactive tables.';\n",
              "        element.innerHTML = '';\n",
              "        dataTable['output_type'] = 'display_data';\n",
              "        await google.colab.output.renderOutput(dataTable, element);\n",
              "        const docLink = document.createElement('div');\n",
              "        docLink.innerHTML = docLinkHtml;\n",
              "        element.appendChild(docLink);\n",
              "      }\n",
              "    </script>\n",
              "  </div>\n",
              "\n",
              "\n",
              "    <div id=\"df-36959945-d971-4af1-b431-44db488d3c7e\">\n",
              "      <button class=\"colab-df-quickchart\" onclick=\"quickchart('df-36959945-d971-4af1-b431-44db488d3c7e')\"\n",
              "                title=\"Suggest charts\"\n",
              "                style=\"display:none;\">\n",
              "\n",
              "<svg xmlns=\"http://www.w3.org/2000/svg\" height=\"24px\"viewBox=\"0 0 24 24\"\n",
              "     width=\"24px\">\n",
              "    <g>\n",
              "        <path d=\"M19 3H5c-1.1 0-2 .9-2 2v14c0 1.1.9 2 2 2h14c1.1 0 2-.9 2-2V5c0-1.1-.9-2-2-2zM9 17H7v-7h2v7zm4 0h-2V7h2v10zm4 0h-2v-4h2v4z\"/>\n",
              "    </g>\n",
              "</svg>\n",
              "      </button>\n",
              "\n",
              "<style>\n",
              "  .colab-df-quickchart {\n",
              "      --bg-color: #E8F0FE;\n",
              "      --fill-color: #1967D2;\n",
              "      --hover-bg-color: #E2EBFA;\n",
              "      --hover-fill-color: #174EA6;\n",
              "      --disabled-fill-color: #AAA;\n",
              "      --disabled-bg-color: #DDD;\n",
              "  }\n",
              "\n",
              "  [theme=dark] .colab-df-quickchart {\n",
              "      --bg-color: #3B4455;\n",
              "      --fill-color: #D2E3FC;\n",
              "      --hover-bg-color: #434B5C;\n",
              "      --hover-fill-color: #FFFFFF;\n",
              "      --disabled-bg-color: #3B4455;\n",
              "      --disabled-fill-color: #666;\n",
              "  }\n",
              "\n",
              "  .colab-df-quickchart {\n",
              "    background-color: var(--bg-color);\n",
              "    border: none;\n",
              "    border-radius: 50%;\n",
              "    cursor: pointer;\n",
              "    display: none;\n",
              "    fill: var(--fill-color);\n",
              "    height: 32px;\n",
              "    padding: 0;\n",
              "    width: 32px;\n",
              "  }\n",
              "\n",
              "  .colab-df-quickchart:hover {\n",
              "    background-color: var(--hover-bg-color);\n",
              "    box-shadow: 0 1px 2px rgba(60, 64, 67, 0.3), 0 1px 3px 1px rgba(60, 64, 67, 0.15);\n",
              "    fill: var(--button-hover-fill-color);\n",
              "  }\n",
              "\n",
              "  .colab-df-quickchart-complete:disabled,\n",
              "  .colab-df-quickchart-complete:disabled:hover {\n",
              "    background-color: var(--disabled-bg-color);\n",
              "    fill: var(--disabled-fill-color);\n",
              "    box-shadow: none;\n",
              "  }\n",
              "\n",
              "  .colab-df-spinner {\n",
              "    border: 2px solid var(--fill-color);\n",
              "    border-color: transparent;\n",
              "    border-bottom-color: var(--fill-color);\n",
              "    animation:\n",
              "      spin 1s steps(1) infinite;\n",
              "  }\n",
              "\n",
              "  @keyframes spin {\n",
              "    0% {\n",
              "      border-color: transparent;\n",
              "      border-bottom-color: var(--fill-color);\n",
              "      border-left-color: var(--fill-color);\n",
              "    }\n",
              "    20% {\n",
              "      border-color: transparent;\n",
              "      border-left-color: var(--fill-color);\n",
              "      border-top-color: var(--fill-color);\n",
              "    }\n",
              "    30% {\n",
              "      border-color: transparent;\n",
              "      border-left-color: var(--fill-color);\n",
              "      border-top-color: var(--fill-color);\n",
              "      border-right-color: var(--fill-color);\n",
              "    }\n",
              "    40% {\n",
              "      border-color: transparent;\n",
              "      border-right-color: var(--fill-color);\n",
              "      border-top-color: var(--fill-color);\n",
              "    }\n",
              "    60% {\n",
              "      border-color: transparent;\n",
              "      border-right-color: var(--fill-color);\n",
              "    }\n",
              "    80% {\n",
              "      border-color: transparent;\n",
              "      border-right-color: var(--fill-color);\n",
              "      border-bottom-color: var(--fill-color);\n",
              "    }\n",
              "    90% {\n",
              "      border-color: transparent;\n",
              "      border-bottom-color: var(--fill-color);\n",
              "    }\n",
              "  }\n",
              "</style>\n",
              "\n",
              "      <script>\n",
              "        async function quickchart(key) {\n",
              "          const quickchartButtonEl =\n",
              "            document.querySelector('#' + key + ' button');\n",
              "          quickchartButtonEl.disabled = true;  // To prevent multiple clicks.\n",
              "          quickchartButtonEl.classList.add('colab-df-spinner');\n",
              "          try {\n",
              "            const charts = await google.colab.kernel.invokeFunction(\n",
              "                'suggestCharts', [key], {});\n",
              "          } catch (error) {\n",
              "            console.error('Error during call to suggestCharts:', error);\n",
              "          }\n",
              "          quickchartButtonEl.classList.remove('colab-df-spinner');\n",
              "          quickchartButtonEl.classList.add('colab-df-quickchart-complete');\n",
              "        }\n",
              "        (() => {\n",
              "          let quickchartButtonEl =\n",
              "            document.querySelector('#df-36959945-d971-4af1-b431-44db488d3c7e button');\n",
              "          quickchartButtonEl.style.display =\n",
              "            google.colab.kernel.accessAllowed ? 'block' : 'none';\n",
              "        })();\n",
              "      </script>\n",
              "    </div>\n",
              "\n",
              "  <div id=\"id_76787404-c64e-42be-93d8-2b17155190ab\">\n",
              "    <style>\n",
              "      .colab-df-generate {\n",
              "        background-color: #E8F0FE;\n",
              "        border: none;\n",
              "        border-radius: 50%;\n",
              "        cursor: pointer;\n",
              "        display: none;\n",
              "        fill: #1967D2;\n",
              "        height: 32px;\n",
              "        padding: 0 0 0 0;\n",
              "        width: 32px;\n",
              "      }\n",
              "\n",
              "      .colab-df-generate:hover {\n",
              "        background-color: #E2EBFA;\n",
              "        box-shadow: 0px 1px 2px rgba(60, 64, 67, 0.3), 0px 1px 3px 1px rgba(60, 64, 67, 0.15);\n",
              "        fill: #174EA6;\n",
              "      }\n",
              "\n",
              "      [theme=dark] .colab-df-generate {\n",
              "        background-color: #3B4455;\n",
              "        fill: #D2E3FC;\n",
              "      }\n",
              "\n",
              "      [theme=dark] .colab-df-generate:hover {\n",
              "        background-color: #434B5C;\n",
              "        box-shadow: 0px 1px 3px 1px rgba(0, 0, 0, 0.15);\n",
              "        filter: drop-shadow(0px 1px 2px rgba(0, 0, 0, 0.3));\n",
              "        fill: #FFFFFF;\n",
              "      }\n",
              "    </style>\n",
              "    <button class=\"colab-df-generate\" onclick=\"generateWithVariable('df_eudora')\"\n",
              "            title=\"Generate code using this dataframe.\"\n",
              "            style=\"display:none;\">\n",
              "\n",
              "  <svg xmlns=\"http://www.w3.org/2000/svg\" height=\"24px\"viewBox=\"0 0 24 24\"\n",
              "       width=\"24px\">\n",
              "    <path d=\"M7,19H8.4L18.45,9,17,7.55,7,17.6ZM5,21V16.75L18.45,3.32a2,2,0,0,1,2.83,0l1.4,1.43a1.91,1.91,0,0,1,.58,1.4,1.91,1.91,0,0,1-.58,1.4L9.25,21ZM18.45,9,17,7.55Zm-12,3A5.31,5.31,0,0,0,4.9,8.1,5.31,5.31,0,0,0,1,6.5,5.31,5.31,0,0,0,4.9,4.9,5.31,5.31,0,0,0,6.5,1,5.31,5.31,0,0,0,8.1,4.9,5.31,5.31,0,0,0,12,6.5,5.46,5.46,0,0,0,6.5,12Z\"/>\n",
              "  </svg>\n",
              "    </button>\n",
              "    <script>\n",
              "      (() => {\n",
              "      const buttonEl =\n",
              "        document.querySelector('#id_76787404-c64e-42be-93d8-2b17155190ab button.colab-df-generate');\n",
              "      buttonEl.style.display =\n",
              "        google.colab.kernel.accessAllowed ? 'block' : 'none';\n",
              "\n",
              "      buttonEl.onclick = () => {\n",
              "        google.colab.notebook.generateWithVariable('df_eudora');\n",
              "      }\n",
              "      })();\n",
              "    </script>\n",
              "  </div>\n",
              "\n",
              "    </div>\n",
              "  </div>\n"
            ],
            "application/vnd.google.colaboratory.intrinsic+json": {
              "type": "dataframe",
              "variable_name": "df_eudora",
              "summary": "{\n  \"name\": \"df_eudora\",\n  \"rows\": 2,\n  \"fields\": [\n    {\n      \"column\": \"nome_clube\",\n      \"properties\": {\n        \"dtype\": \"string\",\n        \"num_unique_values\": 2,\n        \"samples\": [\n          \"\\ud83d\\udd34 Esfera\",\n          \"\\ud83d\\udfe3 Livelo\"\n        ],\n        \"semantic_type\": \"\",\n        \"description\": \"\"\n      }\n    },\n    {\n      \"column\": \"pontuacao_clube\",\n      \"properties\": {\n        \"dtype\": \"number\",\n        \"std\": 0,\n        \"min\": 1,\n        \"max\": 2,\n        \"num_unique_values\": 2,\n        \"samples\": [\n          1,\n          2\n        ],\n        \"semantic_type\": \"\",\n        \"description\": \"\"\n      }\n    },\n    {\n      \"column\": \"analise_pontuacao\",\n      \"properties\": {\n        \"dtype\": \"string\",\n        \"num_unique_values\": 1,\n        \"samples\": [\n          \"\\u2b50 N\\u00edvel 1 (Ruim) \\ud83d\\ude21: Sugiro aguardar algo melhor\"\n        ],\n        \"semantic_type\": \"\",\n        \"description\": \"\"\n      }\n    },\n    {\n      \"column\": \"parceiro\",\n      \"properties\": {\n        \"dtype\": \"string\",\n        \"num_unique_values\": 1,\n        \"samples\": [\n          \"Eudora\"\n        ],\n        \"semantic_type\": \"\",\n        \"description\": \"\"\n      }\n    },\n    {\n      \"column\": \"data_coleta_promocao\",\n      \"properties\": {\n        \"dtype\": \"object\",\n        \"num_unique_values\": 1,\n        \"samples\": [\n          \"30/10/2025\"\n        ],\n        \"semantic_type\": \"\",\n        \"description\": \"\"\n      }\n    }\n  ]\n}"
            }
          },
          "metadata": {}
        }
      ]
    },
    {
      "cell_type": "markdown",
      "source": [
        "### Enviando os dados via Whatsapp"
      ],
      "metadata": {
        "id": "e_oWFnhhEWce"
      }
    },
    {
      "cell_type": "code",
      "source": [
        "if hora_atual < hora_max_grupo_perfumaria_cosmeticos:\n",
        "  # Concatenando os dataframes\n",
        "  df_final = pd.concat([df_natura, df_boticario, df_eudora], ignore_index=True)\n",
        "  df_final\n",
        "\n",
        "  # Criando a mensagem do grupo de Beleza e Cosméticos\n",
        "  msg = \"\"\n",
        "  msg_titulo = f\"💄 *Resumo das Promoções da Categoria de Perfumaria e Cosméticos em {data_formatada}: 👇*\"\n",
        "\n",
        "  for index, row in df_final.iterrows():\n",
        "    msg += textwrap.dedent(f\"\"\"\n",
        "  *Parceiro:* {row[\"parceiro\"]}\n",
        "  *Programa de Fidelidade:* {row[\"nome_clube\"]}\n",
        "  *Pontuação:* {row[\"pontuacao_clube\"]}\n",
        "  *Análise da Promoção:* {row[\"analise_pontuacao\"]}\n",
        "\n",
        "  {\"-\"*30}\"\"\").strip()\n",
        "\n",
        "  msg_grupo = msg_titulo + \"\\n\"\"\\n\" + msg\n",
        "\n",
        "\n",
        "  # Enviando mensagem no grupo do Whatsapp\n",
        "  import requests\n",
        "\n",
        "  # Substitua com os dados reais\n",
        "  INSTANCE_ID = 'inst_4ng9578nwiz0'\n",
        "  API_KEY = 'sk_hRzCfVl0hSFebdFmmN0hwhpNZtVA9JqIdscEpatVHyreMM9f'\n",
        "\n",
        "  # JID do grupo (obtido via rota /groups)\n",
        "  group_jid = '120363040547851644@g.us'\n",
        "\n",
        "  # Mensagem de Bom dia\n",
        "  message_bom_dia = texto_bom_dia\n",
        "  message_promo = msg_grupo\n",
        "\n",
        "  # Endpoint\n",
        "  url = f\"https://api.zapperapi.com/{INSTANCE_ID}/messages/text\"\n",
        "\n",
        "  headers = {\n",
        "      \"X-Api-Key\": API_KEY,\n",
        "      \"Content-Type\": \"application/json\"\n",
        "  }\n",
        "\n",
        "  # Payload\n",
        "  payload = {\n",
        "      \"jid\": group_jid,\n",
        "      \"message\": message_bom_dia,\n",
        "  }\n",
        "\n",
        "  #Enviando a mensagem de bom dia\n",
        "  response = requests.post(url, json=payload, headers=headers)\n",
        "\n",
        "  # Resposta\n",
        "  if response.status_code == 200:\n",
        "      print(\"Mensagem de bom dia enviada com sucesso para o grupo!\")\n",
        "  else:\n",
        "      print(f\"Erro ao enviar mensagem: {response.status_code} - {response.text}\")\n",
        "\n",
        "\n",
        "  # Aguardar 2 minutos\n",
        "  import time\n",
        "  time.sleep(120)\n",
        "\n",
        "  # Payload\n",
        "  payload = {\n",
        "      \"jid\": group_jid,\n",
        "      \"message\": message_promo,\n",
        "  }\n",
        "\n",
        "  #Enviando as promoções\n",
        "  response = requests.post(url, json=payload, headers=headers)\n",
        "\n",
        "  # Resposta\n",
        "  if response.status_code == 200:\n",
        "      print(\"Mensagem com as promoções enviada com sucesso para o grupo!\")\n",
        "  else:\n",
        "      print(f\"Erro ao enviar mensagem: {response.status_code} - {response.text}\")\n",
        "\n",
        "else:\n",
        "  print(\"Fora do horário!\")"
      ],
      "metadata": {
        "colab": {
          "base_uri": "https://localhost:8080/"
        },
        "id": "NcnoZfLpElWW",
        "outputId": "eda3de66-636e-4d32-88e8-b0c2bc8bc39f"
      },
      "execution_count": 16,
      "outputs": [
        {
          "output_type": "stream",
          "name": "stdout",
          "text": [
            "Mensagem de bom dia enviada com sucesso para o grupo!\n",
            "Mensagem com as promoções enviada com sucesso para o grupo!\n"
          ]
        }
      ]
    },
    {
      "cell_type": "markdown",
      "source": [
        "##"
      ],
      "metadata": {
        "id": "FvnRqAMqjbeu"
      }
    },
    {
      "cell_type": "markdown",
      "source": [
        "## Grupo de Roupas e Calçados Esportivos (11h am) GRUPO OK"
      ],
      "metadata": {
        "id": "0irzyvqYe8K-"
      }
    },
    {
      "cell_type": "markdown",
      "source": [
        "### Loja Centauro"
      ],
      "metadata": {
        "id": "Ct6T9PtPfEW5"
      }
    },
    {
      "cell_type": "code",
      "source": [
        "hora_atual = agora_brasilia.hour\n",
        "\n",
        "if hora_atual >= hora_min_grupo_esportivo and hora_atual < hora_max_grupo_esportivo:\n",
        "    df_centauro = coletar_promocoes(\n",
        "        url=\"https://www.comparemania.com.br/cashback-centauro/\",\n",
        "        parceiro=\"Centauro\",\n",
        "        data_formatada=data_formatada,\n",
        "        nomes_alvo=nomes_alvo\n",
        "    )\n",
        "    display(df_centauro)\n",
        "else:\n",
        "    print(\"Fora do horário!\")"
      ],
      "metadata": {
        "colab": {
          "base_uri": "https://localhost:8080/"
        },
        "id": "obIoSZ8Z48cU",
        "outputId": "0e2319b4-3a31-433b-87fa-9be6a1a59dc8"
      },
      "execution_count": 17,
      "outputs": [
        {
          "output_type": "stream",
          "name": "stdout",
          "text": [
            "Fora do horário!\n"
          ]
        }
      ]
    },
    {
      "cell_type": "markdown",
      "source": [
        "### Loja NetShoes"
      ],
      "metadata": {
        "id": "7ULbjHpUfDzj"
      }
    },
    {
      "cell_type": "code",
      "source": [
        "hora_atual = agora_brasilia.hour\n",
        "\n",
        "if hora_atual >= hora_min_grupo_esportivo and hora_atual < hora_max_grupo_esportivo:\n",
        "    df_netshoes = coletar_promocoes(\n",
        "        url=\"https://www.comparemania.com.br/cashback-netshoes/\",\n",
        "        parceiro=\"Netshoes\",\n",
        "        data_formatada=data_formatada,\n",
        "        nomes_alvo=nomes_alvo\n",
        "    )\n",
        "    display(df_netshoes)\n",
        "else:\n",
        "    print(\"Fora do horário!\")"
      ],
      "metadata": {
        "colab": {
          "base_uri": "https://localhost:8080/"
        },
        "id": "DdxEvDI25POp",
        "outputId": "2ee8de20-a003-4cb3-e020-5de6c7d8d212"
      },
      "execution_count": 18,
      "outputs": [
        {
          "output_type": "stream",
          "name": "stdout",
          "text": [
            "Fora do horário!\n"
          ]
        }
      ]
    },
    {
      "cell_type": "markdown",
      "source": [
        "### Loja New Balance"
      ],
      "metadata": {
        "id": "xAJXFirV4CxN"
      }
    },
    {
      "cell_type": "code",
      "source": [
        "hora_atual = agora_brasilia.hour\n",
        "\n",
        "if hora_atual >= hora_min_grupo_esportivo and hora_atual < hora_max_grupo_esportivo:\n",
        "    df_new_balance = coletar_promocoes(\n",
        "        url=\"https://www.comparemania.com.br/cashback-new-balance/\",\n",
        "        parceiro=\"New Balance\",\n",
        "        data_formatada=data_formatada,\n",
        "        nomes_alvo=nomes_alvo\n",
        "    )\n",
        "    display(df_new_balance)\n",
        "else:\n",
        "    print(\"Fora do horário!\")"
      ],
      "metadata": {
        "colab": {
          "base_uri": "https://localhost:8080/"
        },
        "id": "83ND-Zrc4GNx",
        "outputId": "80d927c0-fe50-482c-beca-efdfd6309b74"
      },
      "execution_count": 19,
      "outputs": [
        {
          "output_type": "stream",
          "name": "stdout",
          "text": [
            "Fora do horário!\n"
          ]
        }
      ]
    },
    {
      "cell_type": "markdown",
      "source": [
        "### Loja Nike"
      ],
      "metadata": {
        "id": "Y1JonhMk4VY0"
      }
    },
    {
      "cell_type": "code",
      "source": [
        "hora_atual = agora_brasilia.hour\n",
        "\n",
        "if hora_atual >= hora_min_grupo_esportivo and hora_atual < hora_max_grupo_esportivo:\n",
        "    df_nike = coletar_promocoes(\n",
        "        url=\"https://www.comparemania.com.br/cashback-nike/\",\n",
        "        parceiro=\"Nike\",\n",
        "        data_formatada=data_formatada,\n",
        "        nomes_alvo=nomes_alvo\n",
        "    )\n",
        "    display(df_nike)\n",
        "else:\n",
        "    print(\"Fora do horário!\")"
      ],
      "metadata": {
        "colab": {
          "base_uri": "https://localhost:8080/"
        },
        "id": "xSZKENSX4X_d",
        "outputId": "ad1ebb6d-fb0a-41a4-e344-059bd34a8a86"
      },
      "execution_count": 20,
      "outputs": [
        {
          "output_type": "stream",
          "name": "stdout",
          "text": [
            "Fora do horário!\n"
          ]
        }
      ]
    },
    {
      "cell_type": "markdown",
      "source": [
        "### Loja Adidas"
      ],
      "metadata": {
        "id": "cnnVKYxK4xkO"
      }
    },
    {
      "cell_type": "code",
      "source": [
        "hora_atual = agora_brasilia.hour\n",
        "\n",
        "if hora_atual >= hora_min_grupo_esportivo and hora_atual < hora_max_grupo_esportivo:\n",
        "    df_adidas = coletar_promocoes(\n",
        "        url=\"https://www.comparemania.com.br/cashback-adidas/\",\n",
        "        parceiro=\"Adidas\",\n",
        "        data_formatada=data_formatada,\n",
        "        nomes_alvo=nomes_alvo\n",
        "    )\n",
        "    display(df_adidas)\n",
        "else:\n",
        "    print(\"Fora do horário!\")"
      ],
      "metadata": {
        "colab": {
          "base_uri": "https://localhost:8080/"
        },
        "id": "TknlgVXF4zUi",
        "outputId": "0f738fb4-fa6e-4f14-de58-9978987b6620"
      },
      "execution_count": 21,
      "outputs": [
        {
          "output_type": "stream",
          "name": "stdout",
          "text": [
            "Fora do horário!\n"
          ]
        }
      ]
    },
    {
      "cell_type": "markdown",
      "source": [
        "### Enviando os dados via Whatsapp"
      ],
      "metadata": {
        "id": "o0Oc0d8bFocM"
      }
    },
    {
      "cell_type": "code",
      "source": [
        "if hora_atual >= hora_min_grupo_esportivo and hora_atual < hora_max_grupo_esportivo:\n",
        "  # Concatenando os dataframes\n",
        "  df_final = pd.concat([df_centauro, df_netshoes, df_new_balance, df_nike, df_adidas], ignore_index=True)\n",
        "  df_final\n",
        "\n",
        "  # Criando a mensagem do grupo de Beleza e Cosméticos\n",
        "  msg = \"\"\n",
        "  msg_titulo = f\"👟🏓 *Promoções da Categoria de Roupas e Calçados Esportivos em {data_formatada}: 👇*\"\n",
        "\n",
        "  for index, row in df_final.iterrows():\n",
        "    msg += textwrap.dedent(f\"\"\"\n",
        "  *Parceiro:* {row[\"parceiro\"]}\n",
        "  *Programa de Fidelidade:* {row[\"nome_clube\"]}\n",
        "  *Pontuação:* {row[\"pontuacao_clube\"]}\n",
        "  *Análise da Promoção:* {row[\"analise_pontuacao\"]}\n",
        "\n",
        "  {\"-\"*30}\"\"\").strip()\n",
        "\n",
        "  msg_grupo = msg_titulo + \"\\n\\n\" + msg\n",
        "\n",
        "  # Enviando mensagem no grupo do Whatsapp\n",
        "  import requests\n",
        "\n",
        "  # Substitua com os dados reais\n",
        "  INSTANCE_ID = 'inst_4ng9578nwiz0'\n",
        "  API_KEY = 'sk_hRzCfVl0hSFebdFmmN0hwhpNZtVA9JqIdscEpatVHyreMM9f'\n",
        "\n",
        "  # JID do grupo (obtido via rota /groups)\n",
        "  group_jid = '120363040547851644@g.us'\n",
        "\n",
        "  # Mensagem\n",
        "  message_promo = msg_grupo\n",
        "\n",
        "  # Endpoint\n",
        "  url = f\"https://api.zapperapi.com/{INSTANCE_ID}/messages/text\"\n",
        "\n",
        "  headers = {\n",
        "      \"X-Api-Key\": API_KEY,\n",
        "      \"Content-Type\": \"application/json\"\n",
        "  }\n",
        "\n",
        "  # Payload\n",
        "  payload = {\n",
        "      \"jid\": group_jid,\n",
        "      \"message\": message_promo,\n",
        "  }\n",
        "\n",
        "  #Enviando as promoções\n",
        "  response = requests.post(url, json=payload, headers=headers)\n",
        "\n",
        "  # Resposta\n",
        "  if response.status_code == 200:\n",
        "      print(\"Mensagem com as promoções enviada com sucesso para o grupo!\")\n",
        "  else:\n",
        "      print(f\"Erro ao enviar mensagem: {response.status_code} - {response.text}\")\n",
        "\n",
        "else:\n",
        "  print(\"Fora do horário!\")\n"
      ],
      "metadata": {
        "colab": {
          "base_uri": "https://localhost:8080/"
        },
        "id": "710YbqoNFrY-",
        "outputId": "b9596c51-48e5-4672-fb6b-e09a624b5b22"
      },
      "execution_count": 22,
      "outputs": [
        {
          "output_type": "stream",
          "name": "stdout",
          "text": [
            "Fora do horário!\n"
          ]
        }
      ]
    },
    {
      "cell_type": "markdown",
      "source": [
        "## Grupo de Beleza e Cosméticos (14h am)"
      ],
      "metadata": {
        "id": "8s2dQfLBMk2W"
      }
    },
    {
      "cell_type": "markdown",
      "source": [
        "### Loja Época Cosméticos"
      ],
      "metadata": {
        "id": "oKGz8gkFMzcs"
      }
    },
    {
      "cell_type": "code",
      "source": [
        "nomes_alvo = [\"livelo\", \"esfera\", \"smiles\", \"azul\", \"shopping latam\", \"latam\"]\n",
        "hora_atual = agora_brasilia.hour\n",
        "\n",
        "if hora_atual >= hora_min_grupo_cosmeticos and hora_atual < hora_max_grupo_cosmeticos:\n",
        "    df_epoca_cosmeticos = coletar_promocoes(\n",
        "        url=\"https://www.comparemania.com.br/cashback-epoca-cosmeticos/\",\n",
        "        parceiro=\"Época Cosméticos\",\n",
        "        data_formatada=data_formatada,\n",
        "        nomes_alvo=nomes_alvo\n",
        "    )\n",
        "    display(df_epoca_cosmeticos)\n",
        "else:\n",
        "    print(\"Fora do horário!\")"
      ],
      "metadata": {
        "colab": {
          "base_uri": "https://localhost:8080/"
        },
        "id": "1BVuYVToM1kV",
        "outputId": "c8454043-1372-43eb-c9f5-6c97b32b7b38"
      },
      "execution_count": 23,
      "outputs": [
        {
          "output_type": "stream",
          "name": "stdout",
          "text": [
            "Fora do horário!\n"
          ]
        }
      ]
    },
    {
      "cell_type": "markdown",
      "source": [
        "### Loja Sephora"
      ],
      "metadata": {
        "id": "WozMGZE8Ny61"
      }
    },
    {
      "cell_type": "code",
      "source": [
        "nomes_alvo = [\"livelo\", \"esfera\", \"smiles\", \"azul\", \"shopping latam\", \"latam\"]\n",
        "hora_atual = agora_brasilia.hour\n",
        "\n",
        "if hora_atual >= hora_min_grupo_cosmeticos and hora_atual < hora_max_grupo_cosmeticos:\n",
        "    df_sephora = coletar_promocoes(\n",
        "        url=\"https://www.comparemania.com.br/cashback-sephora/\",\n",
        "        parceiro=\"Sephora\",\n",
        "        data_formatada=data_formatada,\n",
        "        nomes_alvo=nomes_alvo\n",
        "    )\n",
        "    display(df_sephora)\n",
        "else:\n",
        "    print(\"Fora do horário!\")"
      ],
      "metadata": {
        "colab": {
          "base_uri": "https://localhost:8080/"
        },
        "id": "lWqZjmmtN6Iy",
        "outputId": "f820cc77-4574-436b-b1e9-81ad38ca5ece"
      },
      "execution_count": 24,
      "outputs": [
        {
          "output_type": "stream",
          "name": "stdout",
          "text": [
            "Fora do horário!\n"
          ]
        }
      ]
    },
    {
      "cell_type": "markdown",
      "source": [
        "### Enviando os dados via Whatsapp"
      ],
      "metadata": {
        "id": "KN75d9AUSCB2"
      }
    },
    {
      "cell_type": "code",
      "source": [
        "if hora_atual >= hora_min_grupo_cosmeticos and hora_atual < hora_max_grupo_cosmeticos:\n",
        "  # Concatenando os dataframes\n",
        "  df_final = pd.concat([df_epoca_cosmeticos, df_sephora], ignore_index=True)\n",
        "  df_final\n",
        "\n",
        "  # Criando a mensagem do grupo de Beleza e Cosméticos\n",
        "  msg = \"\"\n",
        "  msg_titulo = f\"💄 *Resumo das Promoções da Categoria de Beleza e Cosméticos em {data_formatada}: 👇*\"\n",
        "\n",
        "  for index, row in df_final.iterrows():\n",
        "    msg += f\"\"\"\n",
        "  *Parceiro:* {row[\"parceiro\"]}\n",
        "  *Programa de Fidelidade:* {row[\"nome_clube\"]}\n",
        "  *Pontuação:* {row[\"pontuacao_clube\"]}\n",
        "  *Análise da Promoção:* {row[\"analise_pontuacao\"]}\n",
        "\n",
        "  {\"-\"*30}\"\"\"\n",
        "\n",
        "  msg_grupo = msg_titulo + \"\\n\"\"\\n\" + msg\n",
        "\n",
        "  # Enviando mensagem no grupo do Whatsapp\n",
        "  import requests\n",
        "\n",
        "  # Substitua com os dados reais\n",
        "  INSTANCE_ID = 'inst_4ng9578nwiz0'\n",
        "  API_KEY = 'sk_hRzCfVl0hSFebdFmmN0hwhpNZtVA9JqIdscEpatVHyreMM9f'\n",
        "\n",
        "  # JID do grupo (obtido via rota /groups)\n",
        "  group_jid = id_grupo_envio\n",
        "\n",
        "  # Mensagem\n",
        "  message_promo = msg_grupo\n",
        "\n",
        "  # Endpoint\n",
        "  url = f\"https://api.zapperapi.com/{INSTANCE_ID}/messages/text\"\n",
        "\n",
        "  headers = {\n",
        "      \"X-Api-Key\": API_KEY,\n",
        "      \"Content-Type\": \"application/json\"\n",
        "  }\n",
        "\n",
        "  # Payload\n",
        "  payload = {\n",
        "      \"jid\": group_jid,\n",
        "      \"message\": message_promo,\n",
        "  }\n",
        "\n",
        "  #Enviando as promoções\n",
        "  response = requests.post(url, json=payload, headers=headers)\n",
        "\n",
        "  # Resposta\n",
        "  if response.status_code == 200:\n",
        "      print(\"Mensagem com as promoções enviada com sucesso para o grupo!\")\n",
        "  else:\n",
        "      print(f\"Erro ao enviar mensagem: {response.status_code} - {response.text}\")\n",
        "\n",
        "else:\n",
        "  print(\"Fora do horário!\")\n"
      ],
      "metadata": {
        "colab": {
          "base_uri": "https://localhost:8080/"
        },
        "id": "Zgmx_cJUSNVA",
        "outputId": "8427e8f9-b553-4e0d-b433-c7b32bcf9e8c"
      },
      "execution_count": 25,
      "outputs": [
        {
          "output_type": "stream",
          "name": "stdout",
          "text": [
            "Fora do horário!\n"
          ]
        }
      ]
    },
    {
      "cell_type": "markdown",
      "source": [
        "## Grupo de Varejo (17h am) GRUPO OK"
      ],
      "metadata": {
        "id": "FjLpxZUXcbRa"
      }
    },
    {
      "cell_type": "markdown",
      "source": [
        "### Loja Amazon (Latam pass nao esta aparecendo)"
      ],
      "metadata": {
        "id": "LRvQfs5vcfCB"
      }
    },
    {
      "cell_type": "code",
      "source": [
        "#nomes_alvo = [\"livelo\", \"esfera\", \"smiles\", \"azul\", \"shopping latam\", \"latam\"]\n",
        "hora_atual = agora_brasilia.hour\n",
        "\n",
        "if hora_atual >= hora_min_grupo_varejo and hora_atual < hora_max_grupo_varejo:\n",
        "    df_amazon = coletar_promocoes(\n",
        "        url=\"https://www.comparemania.com.br/cashback-amazon/\",\n",
        "        parceiro=\"Amazon\",\n",
        "        data_formatada=data_formatada,\n",
        "        nomes_alvo=nomes_alvo\n",
        "    )\n",
        "    display(df_amazon)\n",
        "else:\n",
        "    print(\"Fora do horário!\")"
      ],
      "metadata": {
        "colab": {
          "base_uri": "https://localhost:8080/"
        },
        "id": "J-hAEvxYcnTb",
        "outputId": "d2dec496-fc97-4718-a2f5-8e4fefd41a99"
      },
      "execution_count": 26,
      "outputs": [
        {
          "output_type": "stream",
          "name": "stdout",
          "text": [
            "Fora do horário!\n"
          ]
        }
      ]
    },
    {
      "cell_type": "markdown",
      "source": [
        "### Loja Ponto"
      ],
      "metadata": {
        "id": "OWB4ZGjRdZKC"
      }
    },
    {
      "cell_type": "code",
      "source": [
        "#nomes_alvo = [\"livelo\", \"esfera\", \"smiles\", \"azul\", \"shopping latam\", \"latam\", \"Shopping Livelo\"]\n",
        "hora_atual = agora_brasilia.hour\n",
        "\n",
        "if hora_atual >= hora_min_grupo_varejo and hora_atual < hora_max_grupo_varejo:\n",
        "    df_ponto = coletar_promocoes(\n",
        "        url=\"https://www.comparemania.com.br/cashback-ponto/\",\n",
        "        parceiro=\"Ponto\",\n",
        "        data_formatada=data_formatada,\n",
        "        nomes_alvo=nomes_alvo\n",
        "    )\n",
        "    display(df_ponto)\n",
        "else:\n",
        "    print(\"Fora do horário!\")"
      ],
      "metadata": {
        "colab": {
          "base_uri": "https://localhost:8080/"
        },
        "id": "ExlP2J9Ydann",
        "outputId": "f586e63c-1410-4de6-b59d-434a18d79d7e"
      },
      "execution_count": 27,
      "outputs": [
        {
          "output_type": "stream",
          "name": "stdout",
          "text": [
            "Fora do horário!\n"
          ]
        }
      ]
    },
    {
      "cell_type": "markdown",
      "source": [
        "### Loja Casas Bahia"
      ],
      "metadata": {
        "id": "I_Txi3LcdpdP"
      }
    },
    {
      "cell_type": "code",
      "source": [
        "#nomes_alvo = [\"livelo\", \"esfera\", \"smiles\", \"azul\", \"shopping latam\", \"latam\", \"Shopping Livelo\"]\n",
        "hora_atual = agora_brasilia.hour\n",
        "\n",
        "if hora_atual >= hora_min_grupo_varejo and hora_atual < hora_max_grupo_varejo:\n",
        "    df_casas_bahia = coletar_promocoes(\n",
        "        url=\"https://www.comparemania.com.br/cashback-casas-bahia/\",\n",
        "        parceiro=\"Casas Bahia\",\n",
        "        data_formatada=data_formatada,\n",
        "        nomes_alvo=nomes_alvo\n",
        "    )\n",
        "    display(df_casas_bahia)\n",
        "else:\n",
        "    print(\"Fora do horário!\")"
      ],
      "metadata": {
        "colab": {
          "base_uri": "https://localhost:8080/"
        },
        "id": "KXGksepwduDF",
        "outputId": "215c4801-6616-4817-b553-293d0ed5d55f"
      },
      "execution_count": 28,
      "outputs": [
        {
          "output_type": "stream",
          "name": "stdout",
          "text": [
            "Fora do horário!\n"
          ]
        }
      ]
    },
    {
      "cell_type": "markdown",
      "source": [
        "### Loja Extra"
      ],
      "metadata": {
        "id": "WHO2SOopgSgs"
      }
    },
    {
      "cell_type": "code",
      "source": [
        "#nomes_alvo = [\"livelo\", \"esfera\", \"smiles\", \"azul\", \"shopping latam\", \"latam\", \"Shopping Livelo\"]\n",
        "hora_atual = agora_brasilia.hour\n",
        "\n",
        "if hora_atual >= hora_min_grupo_varejo and hora_atual < hora_max_grupo_varejo:\n",
        "    df_extra = coletar_promocoes(\n",
        "        url=\"https://www.comparemania.com.br/cashback-extra/\",\n",
        "        parceiro=\"Extra\",\n",
        "        data_formatada=data_formatada,\n",
        "        nomes_alvo=nomes_alvo\n",
        "    )\n",
        "    display(df_extra)\n",
        "else:\n",
        "    print(\"Fora do horário!\")"
      ],
      "metadata": {
        "colab": {
          "base_uri": "https://localhost:8080/"
        },
        "id": "egWWZjR8gaFh",
        "outputId": "e3a319de-5212-492d-e75c-74eecf5500fb"
      },
      "execution_count": 29,
      "outputs": [
        {
          "output_type": "stream",
          "name": "stdout",
          "text": [
            "Fora do horário!\n"
          ]
        }
      ]
    },
    {
      "cell_type": "markdown",
      "source": [
        "### Loja Mercado Livre"
      ],
      "metadata": {
        "id": "LMjnG7i0gqqR"
      }
    },
    {
      "cell_type": "code",
      "source": [
        "#nomes_alvo = [\"livelo\", \"esfera\", \"smiles\", \"azul\", \"shopping latam\", \"latam\", \"Shopping Livelo\"]\n",
        "hora_atual = agora_brasilia.hour\n",
        "\n",
        "if hora_atual >= hora_min_grupo_varejo and hora_atual < hora_max_grupo_varejo:\n",
        "    df_mercado_livre = coletar_promocoes(\n",
        "        url=\"https://www.comparemania.com.br/cashback-mercado-livre/\",\n",
        "        parceiro=\"Mercado Livre\",\n",
        "        data_formatada=data_formatada,\n",
        "        nomes_alvo=nomes_alvo\n",
        "    )\n",
        "    display(df_mercado_livre)\n",
        "else:\n",
        "    print(\"Fora do horário!\")"
      ],
      "metadata": {
        "colab": {
          "base_uri": "https://localhost:8080/"
        },
        "id": "LdR3q5ptgsdI",
        "outputId": "08e0b863-433c-4ef1-ee28-940102047cd3"
      },
      "execution_count": 30,
      "outputs": [
        {
          "output_type": "stream",
          "name": "stdout",
          "text": [
            "Fora do horário!\n"
          ]
        }
      ]
    },
    {
      "cell_type": "markdown",
      "source": [
        "### Loja FastShop"
      ],
      "metadata": {
        "id": "jcANGqUAg5Tm"
      }
    },
    {
      "cell_type": "code",
      "source": [
        "#nomes_alvo = [\"livelo\", \"esfera\", \"smiles\", \"azul\", \"shopping latam\", \"latam\", \"Shopping Livelo\"]\n",
        "hora_atual = agora_brasilia.hour\n",
        "\n",
        "if hora_atual >= hora_min_grupo_varejo and hora_atual < hora_max_grupo_varejo:\n",
        "    df_fast_shop = coletar_promocoes(\n",
        "        url=\"https://www.comparemania.com.br/cashback-fast-shop/\",\n",
        "        parceiro=\"Fast Shop\",\n",
        "        data_formatada=data_formatada,\n",
        "        nomes_alvo=nomes_alvo\n",
        "    )\n",
        "    display(df_fast_shop)\n",
        "else:\n",
        "    print(\"Fora do horário!\")"
      ],
      "metadata": {
        "colab": {
          "base_uri": "https://localhost:8080/"
        },
        "id": "8xYZIu56g7o3",
        "outputId": "c2cee0c8-28d3-4db7-f484-9c128b494d92"
      },
      "execution_count": 31,
      "outputs": [
        {
          "output_type": "stream",
          "name": "stdout",
          "text": [
            "Fora do horário!\n"
          ]
        }
      ]
    },
    {
      "cell_type": "markdown",
      "source": [
        "### Enviando os dados via Whatsapp"
      ],
      "metadata": {
        "id": "CVf1nToohG_M"
      }
    },
    {
      "cell_type": "code",
      "source": [
        "if hora_atual >= hora_min_grupo_varejo and hora_atual < hora_max_grupo_varejo:\n",
        "  # Concatenando os dataframes\n",
        "  df_final = pd.concat([df_amazon, df_mercado_livre, df_ponto, df_casas_bahia, df_extra, df_fast_shop], ignore_index=True)\n",
        "  df_final\n",
        "\n",
        "  # Criando a mensagem do grupo de Beleza e Cosméticos\n",
        "  msg = \"\"\n",
        "  msg_titulo = f\"📱💻 *Promoções do Grupo de Varejo em {data_formatada}: 👇*\"\n",
        "\n",
        "  for index, row in df_final.iterrows():\n",
        "    msg += textwrap.dedent(f\"\"\"\n",
        "  *Parceiro:* {row[\"parceiro\"]}\n",
        "  *Programa de Fidelidade:* {row[\"nome_clube\"]}\n",
        "  *Pontuação:* {row[\"pontuacao_clube\"]}\n",
        "  *Análise da Promoção:* {row[\"analise_pontuacao\"]}\n",
        "\n",
        "  {\"-\"*30}\"\"\").strip()\n",
        "\n",
        "  msg_grupo = msg_titulo + \"\\n\"\"\\n\" + msg\n",
        "\n",
        "  # Enviando mensagem no grupo do Whatsapp\n",
        "  import requests\n",
        "\n",
        "  # Substitua com os dados reais\n",
        "  INSTANCE_ID = 'inst_4ng9578nwiz0'\n",
        "  API_KEY = 'sk_hRzCfVl0hSFebdFmmN0hwhpNZtVA9JqIdscEpatVHyreMM9f'\n",
        "\n",
        "  # JID do grupo (obtido via rota /groups)\n",
        "  group_jid = '120363040547851644@g.us'\n",
        "\n",
        "  # Mensagem\n",
        "  message_promo = msg_grupo\n",
        "\n",
        "  # Endpoint\n",
        "  url = f\"https://api.zapperapi.com/{INSTANCE_ID}/messages/text\"\n",
        "\n",
        "  headers = {\n",
        "      \"X-Api-Key\": API_KEY,\n",
        "      \"Content-Type\": \"application/json\"\n",
        "  }\n",
        "\n",
        "  # Payload\n",
        "  payload = {\n",
        "      \"jid\": group_jid,\n",
        "      \"message\": message_promo,\n",
        "  }\n",
        "\n",
        "  #Enviando as promoções\n",
        "  response = requests.post(url, json=payload, headers=headers)\n",
        "\n",
        "  # Resposta\n",
        "  if response.status_code == 200:\n",
        "      print(\"Mensagem com as promoções enviada com sucesso para o grupo!\")\n",
        "  else:\n",
        "      print(f\"Erro ao enviar mensagem: {response.status_code} - {response.text}\")\n",
        "\n",
        "else:\n",
        "  print(\"Fora do horário!\")\n"
      ],
      "metadata": {
        "colab": {
          "base_uri": "https://localhost:8080/"
        },
        "id": "_-aYyd-bhIqd",
        "outputId": "ed704408-48ee-4c1d-985a-9d2d941964ac"
      },
      "execution_count": 32,
      "outputs": [
        {
          "output_type": "stream",
          "name": "stdout",
          "text": [
            "Fora do horário!\n"
          ]
        }
      ]
    },
    {
      "cell_type": "markdown",
      "source": [
        "## ADD RENNER, C&A, RIACHUELO"
      ],
      "metadata": {
        "id": "APPwpZ547oMr"
      }
    },
    {
      "cell_type": "markdown",
      "source": [
        "## Jabares (Mensagens com Imagens)"
      ],
      "metadata": {
        "id": "k9nzTKIMsD7f"
      }
    },
    {
      "cell_type": "markdown",
      "source": [
        "### Jabar banco inter (11h am) GRUPO OK"
      ],
      "metadata": {
        "id": "zoja_VUrsGbM"
      }
    },
    {
      "cell_type": "code",
      "source": [
        "if hora_atual >= hora_min_grupo_esportivo and hora_atual < hora_max_grupo_esportivo and dia_semana in (\"Wednesday\", \"Saturday\"):\n",
        "\n",
        "  import requests\n",
        "\n",
        "  # Aguardar 2 minutos\n",
        "  import time\n",
        "  time.sleep(120)\n",
        "\n",
        "  # Substitua com os dados reais\n",
        "  INSTANCE_ID = 'inst_4ng9578nwiz0'\n",
        "  API_KEY = 'sk_hRzCfVl0hSFebdFmmN0hwhpNZtVA9JqIdscEpatVHyreMM9f'\n",
        "\n",
        "  # JID do grupo (obtido via rota /groups)\n",
        "  group_jid = '120363040547851644@g.us'\n",
        "\n",
        "  import textwrap\n",
        "\n",
        "  if dia_semana == \"Wednesday\":\n",
        "    message_promo = textwrap.dedent(\"\"\"\n",
        "    *Quer começar no mundo dos cartões com o pé direito?*\n",
        "\n",
        "    O Inter Prime é uma ótima escolha: pontua bem, os pontos não expiram e você ainda\n",
        "    ganha acesso às Salas VIP de forma gratuita, perfeito para dar um upgrade nas suas viagens.\n",
        "\n",
        "    Lembrando que a forma mais fácil de conseguir esse cartão é *assinando o plano Duo Gourmet anual* 👇\n",
        "\n",
        "    💰 *Quero economizar R$30 no plano anual do Duo Gourmet?*\n",
        "\n",
        "    Utilize o código B1EE1054 para ganhar R$ 30 off na assinatura do plano anual pelo app do Inter!\n",
        "    👉 Acesse: https://intergo.app/1f148152\n",
        "\n",
        "    🟠 *Abra a sua conta no Banco Inter com o nosso link e ganhe 200 pontos*\n",
        "\n",
        "    Utilize o código 0F01D993 e abra a sua conta gratuita no Inter. Ao fazer isso, você já receberá 200 pontos Loop de presente!\n",
        "    👉 https://intergo.app/242d85c4\n",
        "\n",
        "    -----------------------------\n",
        "\n",
        "    💳 Não conhece esse cartão? Assista o vídeo abaixo para conhecer os principais benefícios do cartão Inter Prime 👇\n",
        "    https://www.youtube.com/playlist?list=PLywCMnijM298ruCE-Cey18WvsoV2UqqQf\"\"\").strip()\n",
        "\n",
        "  else:\n",
        "    message_promo = textwrap.dedent(\"\"\"\n",
        "    *Pensando em começar no mundo dos cartões? 💳*\n",
        "\n",
        "    O Inter Prime é uma excelente opção: boa pontuação, pontos que não expiram e acesso às Salas VIP ✈️🔥\n",
        "\n",
        "    A maneira mais simples de conseguir esse cartão é assinando o plano Duo Gourmet anual 👇\n",
        "\n",
        "    💰 *Quer economizar R$30 no plano anual do Duo Gourmet?*\n",
        "    Use o código **B1EE1054** no app do Inter\n",
        "    👉 https://intergo.app/1f148152\n",
        "\n",
        "    🟠 *Ainda não tem conta? abra sua conta no Banco Inter e ganhe 200 pontos Loop*\n",
        "    Use o código **0F01D993**\n",
        "    👉 https://intergo.app/242d85c4\n",
        "\n",
        "    -----------------------------\n",
        "\n",
        "    💳 Conheça os benefícios do cartão Inter Prime:\n",
        "    https://www.youtube.com/playlist?list=PLywCMnijM298ruCE-Cey18WvsoV2UqqQf\"\"\").strip()\n",
        "\n",
        "  # Imagem do Google Drive\n",
        "  drive_id = \"1OpOK2Ee1q2yJO-UDhfP3w3hFh2uM7y0s\"\n",
        "  img_url = f\"https://drive.google.com/uc?export=view&id={drive_id}\"\n",
        "\n",
        "  url = f\"https://api.zapperapi.com/{INSTANCE_ID}/messages/media\"\n",
        "\n",
        "  payload = {\n",
        "      \"jid\": group_jid,\n",
        "      \"mediaType\": \"image\",\n",
        "      \"mimetype\": \"image/jpeg\",\n",
        "      \"media\": img_url,\n",
        "      \"caption\": message_promo,  # ← usa seu texto de análise\n",
        "      \"filename\": \"analise.jpg\"\n",
        "  }\n",
        "\n",
        "  headers = {\n",
        "      \"X-Api-Key\": API_KEY,\n",
        "      \"Content-Type\": \"application/json\"\n",
        "  }\n",
        "\n",
        "  response = requests.post(url, json=payload, headers=headers)\n",
        "\n",
        "  print(response.json())\n",
        "\n",
        "else:\n",
        "  print(\"Fora do horário!\")"
      ],
      "metadata": {
        "id": "sNSCfnAODEw3",
        "colab": {
          "base_uri": "https://localhost:8080/"
        },
        "outputId": "7f567d4a-fdcc-44e4-e8d1-1cf3e0708a31"
      },
      "execution_count": 33,
      "outputs": [
        {
          "output_type": "stream",
          "name": "stdout",
          "text": [
            "Fora do horário!\n"
          ]
        }
      ]
    },
    {
      "cell_type": "markdown",
      "source": [
        "### Jabar planilha (11h am) GRUPO OK"
      ],
      "metadata": {
        "id": "W_fJakf57yL2"
      }
    },
    {
      "cell_type": "code",
      "source": [
        "if hora_atual >= hora_min_grupo_esportivo and hora_atual < hora_max_grupo_esportivo and dia_semana in (\"Thursday\", \"Sunday\"):\n",
        "\n",
        "  import requests\n",
        "\n",
        "  # Aguardar 2 minutos\n",
        "  import time\n",
        "  time.sleep(120)\n",
        "\n",
        "  # Substitua com os dados reais\n",
        "  INSTANCE_ID = 'inst_4ng9578nwiz0'\n",
        "  API_KEY = 'sk_hRzCfVl0hSFebdFmmN0hwhpNZtVA9JqIdscEpatVHyreMM9f'\n",
        "\n",
        "  # JID do grupo (obtido via rota /groups)\n",
        "  group_jid = '120363040547851644@g.us'\n",
        "\n",
        "  import textwrap\n",
        "\n",
        "  if dia_semana == \"Thursday\":\n",
        "    message_promo = textwrap.dedent(\"\"\"\n",
        "    *Quer organizar suas finanças de um jeito simples e inteligente?*\n",
        "\n",
        "    A nossa Planilha de Controle Financeiro foi feita para quem quer parar de gastar no automático\n",
        "    e finalmente entender para onde o dinheiro está indo, de forma clara, rápida e sem complicação.\n",
        "\n",
        "    Por que essa planilha é a solução perfeita para você?\n",
        "    • Simples de usar e totalmente automatizada\n",
        "    • Visão completa do seu fluxo de caixa\n",
        "    • Dashboard visual e intuitivo\n",
        "\n",
        "    💡 *E o melhor?*\n",
        "    • Ela custa menos do que uma pizza 🍕\n",
        "    • Você paga *uma única vez* e fica com a planilha *para sempre*.\n",
        "    • E você ainda ganha uma aula passo a passo. Mesmo sem saber Excel, você vai conseguir usar sem dificuldade. 🎓✅\n",
        "    • Ao adquirir, você ainda apoia o nosso trabalho e nos ajuda a continuar trazendo conteúdo gratuito aqui no grupo. 🙏\n",
        "\n",
        "    👉 Assista ao vídeo e adquira sua planilha aqui:\n",
        "    https://bit.ly/whatsplancontrolefinanceiro\n",
        "\n",
        "    -----------------------------\n",
        "\n",
        "    🧠 *Organização financeira muda tudo.*\n",
        "    Comece hoje, seu “eu do futuro” vai agradecer.\"\"\").strip()\n",
        "  else:\n",
        "    message_promo = textwrap.dedent(\"\"\"\n",
        "    *Quer organizar suas finanças de um jeito simples?*\n",
        "\n",
        "    Nossa Planilha de Controle Financeiro te ajuda a ver para onde seu dinheiro está indo e a controlar seus gastos sem complicação.\n",
        "\n",
        "    • Custa menos que uma pizza 🍕\n",
        "    • Pagou uma vez, é sua para sempre.\n",
        "    • E tem aula passo a passo (mesmo se você não souber Excel). 🎓✅\n",
        "\n",
        "    👉 Conheça e adquira aqui:\n",
        "    https://bit.ly/whatsplancontrolefinanceiro\"\"\").strip()\n",
        "\n",
        "\n",
        "  # Imagem do Google Drive\n",
        "  drive_id = \"1dHHTOXW8g3bZ4AGZk14Lvnu9mGSpHoVc\"\n",
        "  img_url = f\"https://drive.google.com/uc?export=view&id={drive_id}\"\n",
        "\n",
        "  url = f\"https://api.zapperapi.com/{INSTANCE_ID}/messages/media\"\n",
        "\n",
        "  payload = {\n",
        "      \"jid\": group_jid,\n",
        "      \"mediaType\": \"image\",\n",
        "      \"mimetype\": \"image/jpeg\",\n",
        "      \"media\": img_url,\n",
        "      \"caption\": message_promo,  # ← usa seu texto de análise\n",
        "      \"filename\": \"analise.jpg\"\n",
        "  }\n",
        "\n",
        "  headers = {\n",
        "      \"X-Api-Key\": API_KEY,\n",
        "      \"Content-Type\": \"application/json\"\n",
        "  }\n",
        "\n",
        "  response = requests.post(url, json=payload, headers=headers)\n",
        "\n",
        "  print(response.json())\n",
        "\n",
        "else:\n",
        "  print(\"Fora do horário!\")"
      ],
      "metadata": {
        "colab": {
          "base_uri": "https://localhost:8080/"
        },
        "id": "TWc4Cw1i8ugn",
        "outputId": "45e71ea5-52b7-4747-82dd-fae8a775ba7e"
      },
      "execution_count": 34,
      "outputs": [
        {
          "output_type": "stream",
          "name": "stdout",
          "text": [
            "Fora do horário!\n"
          ]
        }
      ]
    },
    {
      "cell_type": "markdown",
      "source": [
        "### Jabar cartao Ruby Stell"
      ],
      "metadata": {
        "id": "WONrABZTK7fN"
      }
    },
    {
      "cell_type": "markdown",
      "source": [
        "### Jabar cartao RecargaPay"
      ],
      "metadata": {
        "id": "6E2b9LMsLB8d"
      }
    },
    {
      "cell_type": "code",
      "source": [],
      "metadata": {
        "id": "ICRmyz_KLD7Y"
      },
      "execution_count": 34,
      "outputs": []
    }
  ]
}