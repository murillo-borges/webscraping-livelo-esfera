{
  "nbformat": 4,
  "nbformat_minor": 0,
  "metadata": {
    "colab": {
      "provenance": [],
      "toc_visible": true,
      "authorship_tag": "ABX9TyO2EMTLLEIGHBXY+xX3PHwD",
      "include_colab_link": true
    },
    "kernelspec": {
      "name": "python3",
      "display_name": "Python 3"
    },
    "language_info": {
      "name": "python"
    }
  },
  "cells": [
    {
      "cell_type": "markdown",
      "metadata": {
        "id": "view-in-github",
        "colab_type": "text"
      },
      "source": [
        "<a href=\"https://colab.research.google.com/github/murillo-borges/webscraping-livelo-esfera/blob/main/Webscraping_Whats_Milhas.ipynb\" target=\"_parent\"><img src=\"https://colab.research.google.com/assets/colab-badge.svg\" alt=\"Open In Colab\"/></a>"
      ]
    },
    {
      "cell_type": "markdown",
      "source": [
        "## Dados padronizados"
      ],
      "metadata": {
        "id": "5xzUxR45AmVS"
      }
    },
    {
      "cell_type": "code",
      "source": [
        "pip install pandas"
      ],
      "metadata": {
        "colab": {
          "base_uri": "https://localhost:8080/"
        },
        "id": "YdJwevRMrdUR",
        "outputId": "e664bf93-6658-4de3-b102-14537e19a425"
      },
      "execution_count": 1,
      "outputs": [
        {
          "output_type": "stream",
          "name": "stdout",
          "text": [
            "Requirement already satisfied: pandas in /usr/local/lib/python3.12/dist-packages (2.2.2)\n",
            "Requirement already satisfied: numpy>=1.26.0 in /usr/local/lib/python3.12/dist-packages (from pandas) (2.0.2)\n",
            "Requirement already satisfied: python-dateutil>=2.8.2 in /usr/local/lib/python3.12/dist-packages (from pandas) (2.9.0.post0)\n",
            "Requirement already satisfied: pytz>=2020.1 in /usr/local/lib/python3.12/dist-packages (from pandas) (2025.2)\n",
            "Requirement already satisfied: tzdata>=2022.7 in /usr/local/lib/python3.12/dist-packages (from pandas) (2025.2)\n",
            "Requirement already satisfied: six>=1.5 in /usr/local/lib/python3.12/dist-packages (from python-dateutil>=2.8.2->pandas) (1.17.0)\n"
          ]
        }
      ]
    },
    {
      "cell_type": "code",
      "source": [
        "pip install datetime"
      ],
      "metadata": {
        "colab": {
          "base_uri": "https://localhost:8080/"
        },
        "id": "kinpyL-vpi7g",
        "outputId": "da6ba6da-a2cf-440e-f84d-f62c8b62cc80"
      },
      "execution_count": 2,
      "outputs": [
        {
          "output_type": "stream",
          "name": "stdout",
          "text": [
            "Collecting datetime\n",
            "  Downloading DateTime-5.5-py3-none-any.whl.metadata (33 kB)\n",
            "Collecting zope.interface (from datetime)\n",
            "  Downloading zope_interface-8.0.1-cp312-cp312-manylinux1_x86_64.manylinux2014_x86_64.manylinux_2_17_x86_64.manylinux_2_5_x86_64.whl.metadata (44 kB)\n",
            "\u001b[2K     \u001b[90m━━━━━━━━━━━━━━━━━━━━━━━━━━━━━━━━━━━━━━━━\u001b[0m \u001b[32m44.9/44.9 kB\u001b[0m \u001b[31m2.8 MB/s\u001b[0m eta \u001b[36m0:00:00\u001b[0m\n",
            "\u001b[?25hRequirement already satisfied: pytz in /usr/local/lib/python3.12/dist-packages (from datetime) (2025.2)\n",
            "Downloading DateTime-5.5-py3-none-any.whl (52 kB)\n",
            "\u001b[2K   \u001b[90m━━━━━━━━━━━━━━━━━━━━━━━━━━━━━━━━━━━━━━━━\u001b[0m \u001b[32m52.6/52.6 kB\u001b[0m \u001b[31m3.9 MB/s\u001b[0m eta \u001b[36m0:00:00\u001b[0m\n",
            "\u001b[?25hDownloading zope_interface-8.0.1-cp312-cp312-manylinux1_x86_64.manylinux2014_x86_64.manylinux_2_17_x86_64.manylinux_2_5_x86_64.whl (264 kB)\n",
            "\u001b[2K   \u001b[90m━━━━━━━━━━━━━━━━━━━━━━━━━━━━━━━━━━━━━━━━\u001b[0m \u001b[32m264.7/264.7 kB\u001b[0m \u001b[31m7.2 MB/s\u001b[0m eta \u001b[36m0:00:00\u001b[0m\n",
            "\u001b[?25hInstalling collected packages: zope.interface, datetime\n",
            "Successfully installed datetime-5.5 zope.interface-8.0.1\n"
          ]
        }
      ]
    },
    {
      "cell_type": "code",
      "execution_count": 3,
      "metadata": {
        "id": "gaK33-E5hggr"
      },
      "outputs": [],
      "source": [
        "#Importando bibliotecas\n",
        "import requests\n",
        "import pandas as pd\n",
        "import re\n",
        "import datetime\n",
        "from bs4 import BeautifulSoup\n",
        "from datetime import date\n",
        "from zoneinfo import ZoneInfo\n",
        "\n",
        "#Coletando a data do dia\n",
        "data_hoje = date.today()\n",
        "data_formatada = data_hoje.strftime(\"%d/%m/%Y\")\n",
        "\n",
        "# Lista de nomes que você quer capturar (normalizados)\n",
        "nomes_alvo = [\"livelo\", \"shopping livelo\", \"esfera\", \"smiles\", \"azul\", \"shopping latam\", \"latam\"]\n",
        "\n",
        "#Horarios de corte para envios\n",
        "hora_max_grupo_beleza = 11\n",
        "hora_min_grupo_esportivo = 11\n",
        "\n",
        "#Buscando a hora atual\n",
        "agora_brasilia = datetime.datetime.now(ZoneInfo(\"America/Sao_Paulo\"))\n",
        "\n",
        "hora_atual = int(agora_brasilia.strftime(\"%H\"))"
      ]
    },
    {
      "cell_type": "code",
      "source": [
        "#Criando o texto de bom dia\n",
        "texto_bom_dia = \"\"\"\n",
        "☀️ *Bom dia, milheiros!* ✈️\n",
        "\n",
        "Antes de começar o dia, segue a nossa escala de análise das promoções para você aproveitar as melhores promoções no acúmulo de milhas:\n",
        "\n",
        "Nós avaliamos cada promoção em 5 níveis, com base no retorno de milhas/pontos:\n",
        "\n",
        "• *Nível 1 (Ruim) ⭐* → Sugiro aguardar algo melhor.\n",
        "• *Nível 2 (Mediano) ⭐⭐* → Use só se você já ia comprar de qualquer forma.\n",
        "• *Nível 3 (Bom) ⭐⭐⭐* → Bom para compras planejadas, mas ainda pode melhorar.\n",
        "• *Nível 4 (Muito Bom) ⭐⭐⭐⭐* → Ótima promoção. Daqui pra cima já vale muito a pena!\n",
        "• *Nível 5 (Excelente / Raro) ⭐⭐⭐⭐⭐* → Promoção rara, dessas que não aparecem toda hora. Aproveite sem medo!\n",
        "\n",
        "Quanto maior o nível, melhor o custo-benefício para acumular milhas/pontos.\n",
        "\n",
        "Ótimo dia a todos! Bora pra cima! 🚀\n",
        "\"\"\""
      ],
      "metadata": {
        "id": "oTQ1HkwRibKP"
      },
      "execution_count": 4,
      "outputs": []
    },
    {
      "cell_type": "markdown",
      "source": [
        "## Grupo de Beleza e Cosméticos (07h am)"
      ],
      "metadata": {
        "id": "HXQTszND79VQ"
      }
    },
    {
      "cell_type": "markdown",
      "source": [
        "### Loja Natura"
      ],
      "metadata": {
        "id": "_5RLIF4X4Dx8"
      }
    },
    {
      "cell_type": "code",
      "source": [
        "if hora_atual < hora_max_grupo_beleza:\n",
        "  pagina = requests.get('https://www.comparemania.com.br/cashback-natura/')\n",
        "  dados_pagina = BeautifulSoup(pagina.text, 'html.parser')\n",
        "\n",
        "  #Extraindo os nomes dos clubes\n",
        "  list_nomes_clubes = []\n",
        "  nomes_clubes = dados_pagina.find_all('div', class_='d-grid')\n",
        "  for div in nomes_clubes:\n",
        "    texto_nome = div.find_all('div', class_='d-grid')\n",
        "    for div in texto_nome:\n",
        "      d_nome_clube = div.find('span').text\n",
        "      if d_nome_clube == \"Livelo\":\n",
        "        d_nome_clube = f'🟣 {d_nome_clube}'\n",
        "      elif d_nome_clube == \"Esfera\":\n",
        "        d_nome_clube = f'🔴 {d_nome_clube}'\n",
        "      elif d_nome_clube == \"Smiles\":\n",
        "        d_nome_clube = f'🟠 {d_nome_clube}'\n",
        "      elif d_nome_clube in(\"Shopping Latam\", \"Azul\"):\n",
        "        d_nome_clube = f'🔵 {d_nome_clube}'\n",
        "\n",
        "      list_nomes_clubes.append(d_nome_clube)\n",
        "      print(d_nome_clube)\n",
        "\n",
        "\n",
        "  #Extraindo a pontuacao dos clubes\n",
        "  list_pontuacao_clubes = []\n",
        "  pontuacao_clubes = dados_pagina.find_all('span', class_='text-center lh-70')\n",
        "\n",
        "  for div in pontuacao_clubes:\n",
        "    d_pontuacao_clube = div.text\n",
        "\n",
        "    #Analise da pontuacao\n",
        "    num_pontos = d_pontuacao_clube[:2]\n",
        "    num_pontos = int(num_pontos.replace(\",\", \"\"))\n",
        "    list_pontuacao_clubes.append(num_pontos)\n",
        "\n",
        "\n",
        "  # Criando o DataFrame Unificado\n",
        "  df_natura = pd.DataFrame({\n",
        "      \"nome_clube\": list_nomes_clubes,\n",
        "      \"pontuacao_clube\": list_pontuacao_clubes\n",
        "  })\n",
        "\n",
        "  list_analise_pontuacao = []\n",
        "\n",
        "  for index, row in df_natura.iterrows():\n",
        "      #print(index, row[\"nome_clube\"], row[\"pontuacao_clube\"])\n",
        "\n",
        "      #Igualando os pesos entre pontos e milhas (considerando uma promo de 80% de bônus)\n",
        "      if row[\"nome_clube\"] not in(\"Livelo\",\"Esfera\"):\n",
        "        pontuacao_ajustada = row[\"pontuacao_clube\"] / 1.8\n",
        "      else:\n",
        "        pontuacao_ajustada = row[\"pontuacao_clube\"]\n",
        "\n",
        "      #Analisando a promoção\n",
        "      if pontuacao_ajustada >= 12:\n",
        "        d_analise = '⭐⭐⭐⭐⭐ Nível 5 (Excelente / Raro) 😏: Promoção rara, aproveite sem medo!'\n",
        "      elif pontuacao_ajustada >= 8:\n",
        "        d_analise = '⭐⭐⭐⭐ Nível 4 (Muito Bom) 😎: Ótima Promoção, daqui pra cima já vale muito!'\n",
        "      elif pontuacao_ajustada >= 6:\n",
        "        d_analise = '⭐⭐⭐ Nível 3 (Bom) 😉: Bom momento para potencializar compras planejadas, mas se puder aguardar, tem coisa melhor!'\n",
        "      elif pontuacao_ajustada >= 3:\n",
        "        d_analise = '⭐⭐ Nível 2 (Mediano) 🧐: Dá pra usar se você realmente já ia comprar, mas é melhor aguardar algo melhor ;)'\n",
        "      else:\n",
        "        d_analise = '⭐ Nível 1 (Ruim) 😡: Sugiro aguardar algo melhor'\n",
        "\n",
        "      list_analise_pontuacao.append(d_analise)\n",
        "\n",
        "\n",
        "  df_natura['analise_pontuacao'] = list_analise_pontuacao\n",
        "  df_natura['parceiro'] = 'Natura'\n",
        "  df_natura['data_coleta_promocao'] = data_formatada\n",
        "  df_natura\n",
        "\n",
        "else:\n",
        "  print(\"Fora do horário!\")"
      ],
      "metadata": {
        "colab": {
          "base_uri": "https://localhost:8080/"
        },
        "id": "BRcf6ZnXhvfw",
        "outputId": "89645a43-73b1-47ee-f091-20660eddb16a"
      },
      "execution_count": 5,
      "outputs": [
        {
          "output_type": "stream",
          "name": "stdout",
          "text": [
            "🟠 Smiles\n",
            "🔵 Azul\n",
            "🟣 Livelo\n",
            "🔵 Shopping Latam\n"
          ]
        }
      ]
    },
    {
      "cell_type": "markdown",
      "source": [
        "### Loja Boticário"
      ],
      "metadata": {
        "id": "eEbCe6Zn5Vwt"
      }
    },
    {
      "cell_type": "code",
      "source": [
        "if hora_atual < hora_max_grupo_beleza:\n",
        "  pagina = requests.get('https://www.comparemania.com.br/cashback-boticario/')\n",
        "  dados_pagina = BeautifulSoup(pagina.text, 'html.parser')\n",
        "\n",
        "  #Extraindo os nomes dos clubes\n",
        "  list_nomes_clubes = []\n",
        "  nomes_clubes = dados_pagina.find_all('div', class_='d-grid')\n",
        "  for div in nomes_clubes:\n",
        "    texto_nome = div.find_all('div', class_='d-grid')\n",
        "    for div in texto_nome:\n",
        "      d_nome_clube = div.find('span').text\n",
        "      if d_nome_clube == \"Livelo\":\n",
        "        d_nome_clube = f'🟣 {d_nome_clube}'\n",
        "      elif d_nome_clube == \"Esfera\":\n",
        "        d_nome_clube = f'🔴 {d_nome_clube}'\n",
        "      elif d_nome_clube == \"Smiles\":\n",
        "        d_nome_clube = f'🟠 {d_nome_clube}'\n",
        "      elif d_nome_clube in(\"Shopping Latam\", \"Azul\"):\n",
        "        d_nome_clube = f'🔵 {d_nome_clube}'\n",
        "\n",
        "      list_nomes_clubes.append(d_nome_clube)\n",
        "      print(d_nome_clube)\n",
        "\n",
        "  #Extraindo a pontuacao dos clubes\n",
        "  list_pontuacao_clubes = []\n",
        "  pontuacao_clubes = dados_pagina.find_all('span', class_='text-center lh-70')\n",
        "\n",
        "  for div in pontuacao_clubes:\n",
        "    d_pontuacao_clube = div.text\n",
        "\n",
        "    #Analise da pontuacao\n",
        "    num_pontos = d_pontuacao_clube[:2]\n",
        "    num_pontos = int(num_pontos.replace(\",\", \"\"))\n",
        "    list_pontuacao_clubes.append(num_pontos)\n",
        "\n",
        "\n",
        "  df_boticario = pd.DataFrame({\n",
        "      \"nome_clube\": list_nomes_clubes,\n",
        "      \"pontuacao_clube\": list_pontuacao_clubes\n",
        "  })\n",
        "\n",
        "  list_analise_pontuacao = []\n",
        "\n",
        "  for index, row in df_boticario.iterrows():\n",
        "      #print(index, row[\"nome_clube\"], row[\"pontuacao_clube\"])\n",
        "\n",
        "      #Igualando os pesos entre pontos e milhas (considerando uma promo de 80% de bônus)\n",
        "      if row[\"nome_clube\"] not in(\"Livelo\",\"Esfera\"):\n",
        "        pontuacao_ajustada = row[\"pontuacao_clube\"] / 1.8\n",
        "      else:\n",
        "        pontuacao_ajustada = row[\"pontuacao_clube\"]\n",
        "\n",
        "      #Analisando a promoção\n",
        "      if pontuacao_ajustada >= 12:\n",
        "        d_analise = '🟢 Nível 5 (Excelente / Raro) 🌟: Promoção rara, aproveite sem medo!'\n",
        "      elif pontuacao_ajustada >= 8:\n",
        "        d_analise = '🟢 Nível 4 (Muito Bom) 🔥: Ótima Promoção, daqui pra cima já vale muito!'\n",
        "      elif pontuacao_ajustada >= 6:\n",
        "        d_analise = '🟡 Nível 3 (Bom) ✨: Bom momento para potencializar compras planejadas, mas se puder aguardar, tem coisa melhor!'\n",
        "      elif pontuacao_ajustada >= 3:\n",
        "        d_analise = '🟡 Nível 2 (Mediano) ⭐: Dá pra usar se você realmente já ia comprar, mas é melhor aguardar algo melhor ;)'\n",
        "      else:\n",
        "        d_analise = '🔴 Nível 1 (Ruim) ⚠️: Sugiro aguardar algo melhor'\n",
        "\n",
        "      list_analise_pontuacao.append(d_analise)\n",
        "\n",
        "\n",
        "  df_boticario['analise_pontuacao'] = list_analise_pontuacao\n",
        "  df_boticario['parceiro'] = 'Boticario'\n",
        "  df_boticario['data_coleta_promocao'] = data_formatada\n",
        "  df_boticario\n",
        "\n",
        "else:\n",
        "  print(\"Fora do horário!\")"
      ],
      "metadata": {
        "colab": {
          "base_uri": "https://localhost:8080/"
        },
        "id": "um0cT2S15W_V",
        "outputId": "118d53c0-ccb4-4c1b-8d61-d45ddfcc76e3"
      },
      "execution_count": 6,
      "outputs": [
        {
          "output_type": "stream",
          "name": "stdout",
          "text": [
            "🟣 Livelo\n",
            "🔴 Esfera\n"
          ]
        }
      ]
    },
    {
      "cell_type": "markdown",
      "source": [
        "### Enviando os dados via Whatsapp"
      ],
      "metadata": {
        "id": "e_oWFnhhEWce"
      }
    },
    {
      "cell_type": "code",
      "source": [
        "if hora_atual < hora_max_grupo_beleza:\n",
        "  # Concatenando os dataframes\n",
        "  df_final = pd.concat([df_natura, df_boticario], ignore_index=True)\n",
        "  df_final\n",
        "\n",
        "  # Criando a mensagem do grupo de Beleza e Cosméticos\n",
        "  msg = \"\"\n",
        "  msg_titulo = f\"💄 *Promoções do Grupo de Beleza e Cosméticos em {data_formatada}: 👇*\"\n",
        "\n",
        "  for index, row in df_final.iterrows():\n",
        "    msg += f\"\"\"\n",
        "  *Parceiro:* {row[\"parceiro\"]}\n",
        "  *Programa de Fidelidade:* {row[\"nome_clube\"]}\n",
        "  *Pontuação:* {row[\"pontuacao_clube\"]}\n",
        "  *Análise da Promoção:* {row[\"analise_pontuacao\"]}\n",
        "\n",
        "  {\"-\"*30}\"\"\"\n",
        "    #print(msg)\n",
        "      #print(index, row[\"nome_clube\"], row[\"pontuacao_clube\"])\n",
        "\n",
        "  msg_grupo = msg_titulo + \"\\n\" + msg\n",
        "\n",
        "\n",
        "  # Enviando mensagem no grupo do Whatsapp\n",
        "  import requests\n",
        "\n",
        "  # Substitua com os dados reais\n",
        "  INSTANCE_ID = 'inst_4ng9578nwiz0'\n",
        "  API_KEY = 'sk_hRzCfVl0hSFebdFmmN0hwhpNZtVA9JqIdscEpatVHyreMM9f'\n",
        "\n",
        "  # JID do grupo (obtido via rota /groups)\n",
        "  group_jid = '555195564436-1477420627@g.us'\n",
        "\n",
        "  # Mensagem\n",
        "  message_bom_dia = texto_bom_dia\n",
        "  message_promo = msg_grupo\n",
        "\n",
        "  # Endpoint\n",
        "  url = f\"https://api.zapperapi.com/{INSTANCE_ID}/messages/text\"\n",
        "\n",
        "  headers = {\n",
        "      \"X-Api-Key\": API_KEY,\n",
        "      \"Content-Type\": \"application/json\"\n",
        "  }\n",
        "\n",
        "  # Payload\n",
        "  payload = {\n",
        "      \"jid\": group_jid,\n",
        "      \"message\": message_bom_dia,\n",
        "  }\n",
        "\n",
        "  #Enviando a mensagem de bom dia\n",
        "  response = requests.post(url, json=payload, headers=headers)\n",
        "\n",
        "  # Resposta\n",
        "  if response.status_code == 200:\n",
        "      print(\"Mensagem de bom dia enviada com sucesso para o grupo!\")\n",
        "  else:\n",
        "      print(f\"Erro ao enviar mensagem: {response.status_code} - {response.text}\")\n",
        "\n",
        "\n",
        "  # Aguardar 30 segundos\n",
        "  import time\n",
        "  time.sleep(30)\n",
        "\n",
        "  # Payload\n",
        "  payload = {\n",
        "      \"jid\": group_jid,\n",
        "      \"message\": message_promo,\n",
        "  }\n",
        "\n",
        "  #Enviando as promoções\n",
        "  response = requests.post(url, json=payload, headers=headers)\n",
        "\n",
        "  # Resposta\n",
        "  if response.status_code == 200:\n",
        "      print(\"Mensagem com as promoções enviada com sucesso para o grupo!\")\n",
        "  else:\n",
        "      print(f\"Erro ao enviar mensagem: {response.status_code} - {response.text}\")\n",
        "\n",
        "else:\n",
        "  print(\"Fora do horário!\")"
      ],
      "metadata": {
        "colab": {
          "base_uri": "https://localhost:8080/"
        },
        "id": "NcnoZfLpElWW",
        "outputId": "4ba24c27-57db-453d-9c54-a93cbf9062bd"
      },
      "execution_count": 7,
      "outputs": [
        {
          "output_type": "stream",
          "name": "stdout",
          "text": [
            "Mensagem de bom dia enviada com sucesso para o grupo!\n",
            "Mensagem com as promoções enviada com sucesso para o grupo!\n"
          ]
        }
      ]
    },
    {
      "cell_type": "markdown",
      "source": [
        "##"
      ],
      "metadata": {
        "id": "FvnRqAMqjbeu"
      }
    },
    {
      "cell_type": "markdown",
      "source": [
        "## Grupo de Roupas e Calçados Esportivos (11h am)"
      ],
      "metadata": {
        "id": "0irzyvqYe8K-"
      }
    },
    {
      "cell_type": "markdown",
      "source": [
        "### Loja Centauro"
      ],
      "metadata": {
        "id": "Ct6T9PtPfEW5"
      }
    },
    {
      "cell_type": "code",
      "source": [
        "if hora_atual >= hora_min_grupo_esportivo:\n",
        "  pagina = requests.get('https://www.comparemania.com.br/cashback-centauro/')\n",
        "  dados_pagina = BeautifulSoup(pagina.text, 'html.parser')\n",
        "\n",
        "  # Extraindo os nomes dos clubes\n",
        "  list_nomes_clubes = []\n",
        "\n",
        "\n",
        "  for sp in dados_pagina.select(\"div.d-grid span\"):\n",
        "      nome = sp.get_text(strip=True)\n",
        "\n",
        "      # Normaliza para comparação (lowercase)\n",
        "      nome_norm = nome.lower()\n",
        "\n",
        "      # Apenas continua se for um dos nomes alvo\n",
        "      if nome_norm not in nomes_alvo:\n",
        "          continue\n",
        "\n",
        "      # Aplica emoji conforme o programa\n",
        "      if nome_norm == \"livelo\":\n",
        "          nome = f\"🟣 {nome}\"\n",
        "      elif nome_norm == \"esfera\":\n",
        "          nome = f\"🔴 {nome}\"\n",
        "      elif nome_norm == \"smiles\":\n",
        "          nome = f\"🟠 {nome}\"\n",
        "      elif nome_norm in (\"azul\", \"shopping latam\", \"latam\"):\n",
        "          nome = f\"🔵 {nome}\"\n",
        "\n",
        "      # Adiciona à lista final\n",
        "      list_nomes_clubes.append(nome)\n",
        "  list_nomes_clubes\n",
        "\n",
        "\n",
        "  #Extraindo a pontuacao dos clubes\n",
        "  list_pontuacao_clubes = []\n",
        "\n",
        "  # percorre apenas a tabela \"Pontos e Milhas\"\n",
        "  tabela_pm = dados_pagina.find('th', string=lambda s: s and 'Pontos e Milhas' in s)\n",
        "  if tabela_pm:\n",
        "      table = tabela_pm.find_parent('table')\n",
        "      for tr in table.select('tbody tr'):\n",
        "          # nome do programa (primeira coluna)\n",
        "          nome_el = tr.select_one('td .d-grid span')\n",
        "          if not nome_el:\n",
        "              continue\n",
        "          nome = nome_el.get_text(strip=True).lower()\n",
        "          if nome not in nomes_alvo:\n",
        "              continue\n",
        "\n",
        "          # texto do ganho (segunda coluna)\n",
        "          tds = tr.find_all('td')\n",
        "          if len(tds) < 2:\n",
        "              continue\n",
        "          texto_ganho = tds[-1].get_text(\" \", strip=True)  # exemplo: \"1,00 pt/R$\" ou \"2,00 pt(s)\"\n",
        "\n",
        "          # extrai o primeiro número (1, 1,00, 4,5, 12, etc.) antes de \"pt\"\n",
        "          m = re.search(r'(\\d+(?:[.,]\\d+)?)\\s*pt', texto_ganho, flags=re.I)\n",
        "          if not m:\n",
        "              continue\n",
        "\n",
        "          valor = m.group(1).replace(',', '.')  # normaliza decimal\n",
        "          # Se você quer inteiro quando for 1,00, converta para float e depois para int se for inteiro exato:\n",
        "          val_float = float(valor)\n",
        "          val_final = int(val_float) if val_float.is_integer() else val_float\n",
        "\n",
        "          list_pontuacao_clubes.append(val_final)\n",
        "\n",
        "\n",
        "\n",
        "\n",
        "  # Criando o DataFrame\n",
        "  df_centauro = pd.DataFrame({\n",
        "      \"nome_clube\": list_nomes_clubes,\n",
        "      \"pontuacao_clube\": list_pontuacao_clubes\n",
        "  })\n",
        "\n",
        "  list_analise_pontuacao = []\n",
        "\n",
        "  for index, row in df_centauro.iterrows():\n",
        "      #print(index, row[\"nome_clube\"], row[\"pontuacao_clube\"])\n",
        "\n",
        "      #Igualando os pesos entre pontos e milhas (considerando uma promo de 80% de bônus)\n",
        "      if row[\"nome_clube\"] not in(\"Livelo\",\"Esfera\"):\n",
        "        pontuacao_ajustada = row[\"pontuacao_clube\"] / 1.8\n",
        "      else:\n",
        "        pontuacao_ajustada = row[\"pontuacao_clube\"]\n",
        "\n",
        "      #Analisando a promoção\n",
        "      if pontuacao_ajustada >= 12:\n",
        "        d_analise = '🟢 Nível 5 (Excelente / Raro) 🌟: Promoção rara, aproveite sem medo!'\n",
        "      elif pontuacao_ajustada >= 8:\n",
        "        d_analise = '🟢 Nível 4 (Muito Bom) 🔥: Ótima Promoção, daqui pra cima já vale muito!'\n",
        "      elif pontuacao_ajustada >= 6:\n",
        "        d_analise = '🟡 Nível 3 (Bom) ✨: Bom momento para potencializar compras planejadas, mas se puder aguardar, tem coisa melhor!'\n",
        "      elif pontuacao_ajustada >= 3:\n",
        "        d_analise = '🟡 Nível 2 (Mediano) ⭐: Dá pra usar se você realmente já ia comprar, mas é melhor aguardar algo melhor ;)'\n",
        "      else:\n",
        "        d_analise = '🔴 Nível 1 (Ruim) ⚠️: Sugiro aguardar algo melhor'\n",
        "\n",
        "      list_analise_pontuacao.append(d_analise)\n",
        "\n",
        "\n",
        "  df_centauro['analise_pontuacao'] = list_analise_pontuacao\n",
        "  df_centauro['parceiro'] = 'Centauro'\n",
        "  df_centauro['data_coleta_promocao'] = data_formatada\n",
        "  display(df_centauro)\n",
        "\n",
        "else:\n",
        "  print(\"Fora do horário!\")"
      ],
      "metadata": {
        "colab": {
          "base_uri": "https://localhost:8080/"
        },
        "id": "HYjXVup2ib6x",
        "outputId": "b77698fd-6eb0-4cfb-cee6-93f23d7faa45"
      },
      "execution_count": 8,
      "outputs": [
        {
          "output_type": "stream",
          "name": "stdout",
          "text": [
            "Fora do horário!\n"
          ]
        }
      ]
    },
    {
      "cell_type": "markdown",
      "source": [
        "### Loja NetShoes"
      ],
      "metadata": {
        "id": "7ULbjHpUfDzj"
      }
    },
    {
      "cell_type": "code",
      "source": [
        "if hora_atual >= hora_min_grupo_esportivo:\n",
        "  pagina = requests.get('https://www.comparemania.com.br/cashback-netshoes/')\n",
        "  dados_pagina = BeautifulSoup(pagina.text, 'html.parser')\n",
        "\n",
        "  # Extraindo os nomes dos clubes\n",
        "  list_nomes_clubes = []\n",
        "\n",
        "  for sp in dados_pagina.select(\"div.d-grid span\"):\n",
        "      nome = sp.get_text(strip=True)\n",
        "\n",
        "      # Normaliza para comparação (lowercase)\n",
        "      nome_norm = nome.lower()\n",
        "\n",
        "      # Apenas continua se for um dos nomes alvo\n",
        "      if nome_norm not in nomes_alvo:\n",
        "          continue\n",
        "\n",
        "      # Aplica emoji conforme o programa\n",
        "      if nome_norm in (\"livelo\", \"shopping livelo\"):\n",
        "          nome = f\"🟣 {nome}\"\n",
        "      elif nome_norm == \"esfera\":\n",
        "          nome = f\"🔴 {nome}\"\n",
        "      elif nome_norm == \"smiles\":\n",
        "          nome = f\"🟠 {nome}\"\n",
        "      elif nome_norm in (\"azul\", \"shopping latam\", \"latam\"):\n",
        "          nome = f\"🔵 {nome}\"\n",
        "\n",
        "      # Adiciona à lista final\n",
        "      list_nomes_clubes.append(nome)\n",
        "  list_nomes_clubes\n",
        "\n",
        "\n",
        "  #Extraindo a pontuacao dos clubes\n",
        "  list_pontuacao_clubes = []\n",
        "\n",
        "  # percorre apenas a tabela \"Pontos e Milhas\"\n",
        "  tabela_pm = dados_pagina.find('th', string=lambda s: s and 'Pontos e Milhas' in s)\n",
        "  if tabela_pm:\n",
        "      table = tabela_pm.find_parent('table')\n",
        "      for tr in table.select('tbody tr'):\n",
        "          # nome do programa (primeira coluna)\n",
        "          nome_el = tr.select_one('td .d-grid span')\n",
        "          if not nome_el:\n",
        "              continue\n",
        "          nome = nome_el.get_text(strip=True).lower()\n",
        "          if nome not in nomes_alvo:\n",
        "              continue\n",
        "\n",
        "          # texto do ganho (segunda coluna)\n",
        "          tds = tr.find_all('td')\n",
        "          if len(tds) < 2:\n",
        "              continue\n",
        "          texto_ganho = tds[-1].get_text(\" \", strip=True)  # exemplo: \"1,00 pt/R$\" ou \"2,00 pt(s)\"\n",
        "\n",
        "          # extrai o primeiro número (1, 1,00, 4,5, 12, etc.) antes de \"pt\"\n",
        "          m = re.search(r'(\\d+(?:[.,]\\d+)?)\\s*pt', texto_ganho, flags=re.I)\n",
        "          if not m:\n",
        "              continue\n",
        "\n",
        "          valor = m.group(1).replace(',', '.')  # normaliza decimal\n",
        "          # Se você quer inteiro quando for 1,00, converta para float e depois para int se for inteiro exato:\n",
        "          val_float = float(valor)\n",
        "          val_final = int(val_float) if val_float.is_integer() else val_float\n",
        "\n",
        "          list_pontuacao_clubes.append(val_final)\n",
        "\n",
        "\n",
        "\n",
        "\n",
        "  # Criando o DataFrame\n",
        "  df_netshoes = pd.DataFrame({\n",
        "      \"nome_clube\": list_nomes_clubes,\n",
        "      \"pontuacao_clube\": list_pontuacao_clubes\n",
        "  })\n",
        "\n",
        "  list_analise_pontuacao = []\n",
        "\n",
        "  for index, row in df_netshoes.iterrows():\n",
        "      #print(index, row[\"nome_clube\"], row[\"pontuacao_clube\"])\n",
        "\n",
        "      #Igualando os pesos entre pontos e milhas (considerando uma promo de 80% de bônus)\n",
        "      if row[\"nome_clube\"] not in(\"Livelo\",\"Esfera\"):\n",
        "        pontuacao_ajustada = row[\"pontuacao_clube\"] / 1.8\n",
        "      else:\n",
        "        pontuacao_ajustada = row[\"pontuacao_clube\"]\n",
        "\n",
        "      #Analisando a promoção\n",
        "      if pontuacao_ajustada >= 12:\n",
        "        d_analise = '🟢 Nível 5 (Excelente / Raro) 🌟: Promoção rara, aproveite sem medo!'\n",
        "      elif pontuacao_ajustada >= 8:\n",
        "        d_analise = '🟢 Nível 4 (Muito Bom) 🔥: Ótima Promoção, daqui pra cima já vale muito!'\n",
        "      elif pontuacao_ajustada >= 6:\n",
        "        d_analise = '🟡 Nível 3 (Bom) ✨: Bom momento para potencializar compras planejadas, mas se puder aguardar, tem coisa melhor!'\n",
        "      elif pontuacao_ajustada >= 3:\n",
        "        d_analise = '🟡 Nível 2 (Mediano) ⭐: Dá pra usar se você realmente já ia comprar, mas é melhor aguardar algo melhor ;)'\n",
        "      else:\n",
        "        d_analise = '🔴 Nível 1 (Ruim) ⚠️: Sugiro aguardar algo melhor'\n",
        "\n",
        "      list_analise_pontuacao.append(d_analise)\n",
        "\n",
        "\n",
        "  df_netshoes['analise_pontuacao'] = list_analise_pontuacao\n",
        "  df_netshoes['parceiro'] = 'Netshoes'\n",
        "  df_netshoes['data_coleta_promocao'] = data_formatada\n",
        "  display(df_netshoes)\n",
        "\n",
        "else:\n",
        "  print(\"Fora do horário!\")"
      ],
      "metadata": {
        "colab": {
          "base_uri": "https://localhost:8080/"
        },
        "id": "19CFBv7DmJ3W",
        "outputId": "30fe1b98-867f-43ac-f3eb-78f4b52f98e5"
      },
      "execution_count": 9,
      "outputs": [
        {
          "output_type": "stream",
          "name": "stdout",
          "text": [
            "Fora do horário!\n"
          ]
        }
      ]
    },
    {
      "cell_type": "markdown",
      "source": [
        "### Enviando os dados via Whatsapp"
      ],
      "metadata": {
        "id": "o0Oc0d8bFocM"
      }
    },
    {
      "cell_type": "code",
      "source": [
        "if hora_atual >= hora_min_grupo_esportivo:\n",
        "  # Concatenando os dataframes\n",
        "  df_final = pd.concat([df_centauro, df_netshoes], ignore_index=True)\n",
        "  df_final\n",
        "\n",
        "  # Criando a mensagem do grupo de Beleza e Cosméticos\n",
        "  msg = \"\"\n",
        "  msg_titulo = f\"👟🏓 *Promoções do Grupo de Roupas e Calçados Esportivos em {data_formatada}: 👇*\"\n",
        "\n",
        "  for index, row in df_final.iterrows():\n",
        "    msg += f\"\"\"\n",
        "  *Parceiro:* {row[\"parceiro\"]}\n",
        "  *Programa de Fidelidade:* {row[\"nome_clube\"]}\n",
        "  *Pontuação:* {row[\"pontuacao_clube\"]}\n",
        "  *Análise da Promoção:* {row[\"analise_pontuacao\"]}\n",
        "\n",
        "  {\"-\"*30}\"\"\"\n",
        "    #print(msg)\n",
        "      #print(index, row[\"nome_clube\"], row[\"pontuacao_clube\"])\n",
        "\n",
        "  msg_grupo = msg_titulo + \"\\n\" + msg\n",
        "\n",
        "  # Enviando mensagem no grupo do Whatsapp\n",
        "  import requests\n",
        "\n",
        "  # Substitua com os dados reais\n",
        "  INSTANCE_ID = 'inst_4ng9578nwiz0'\n",
        "  API_KEY = 'sk_hRzCfVl0hSFebdFmmN0hwhpNZtVA9JqIdscEpatVHyreMM9f'\n",
        "\n",
        "  # JID do grupo (obtido via rota /groups)\n",
        "  group_jid = '555195564436-1477420627@g.us'\n",
        "\n",
        "  # Mensagem\n",
        "  message_promo = msg_grupo\n",
        "\n",
        "  # Endpoint\n",
        "  url = f\"https://api.zapperapi.com/{INSTANCE_ID}/messages/text\"\n",
        "\n",
        "  headers = {\n",
        "      \"X-Api-Key\": API_KEY,\n",
        "      \"Content-Type\": \"application/json\"\n",
        "  }\n",
        "\n",
        "  # Payload\n",
        "  payload = {\n",
        "      \"jid\": group_jid,\n",
        "      \"message\": message_promo,\n",
        "  }\n",
        "\n",
        "  #Enviando as promoções\n",
        "  response = requests.post(url, json=payload, headers=headers)\n",
        "\n",
        "  # Resposta\n",
        "  if response.status_code == 200:\n",
        "      print(\"Mensagem com as promoções enviada com sucesso para o grupo!\")\n",
        "  else:\n",
        "      print(f\"Erro ao enviar mensagem: {response.status_code} - {response.text}\")\n",
        "\n",
        "else:\n",
        "  print(\"Fora do horário!\")\n"
      ],
      "metadata": {
        "colab": {
          "base_uri": "https://localhost:8080/"
        },
        "id": "710YbqoNFrY-",
        "outputId": "40d79109-7b7f-403e-b0ab-5185968e1c45"
      },
      "execution_count": 10,
      "outputs": [
        {
          "output_type": "stream",
          "name": "stdout",
          "text": [
            "Fora do horário!\n"
          ]
        }
      ]
    },
    {
      "cell_type": "markdown",
      "source": [
        "## ADD SEPHORA E EPOCA\n",
        "\n",
        "## ADD AMAZON E MERCADO LIVRE\n",
        "\n",
        "## ADD RENNER, C&A, RIACHUELO"
      ],
      "metadata": {
        "id": "APPwpZ547oMr"
      }
    },
    {
      "cell_type": "code",
      "source": [
        "### ADD MERCADO LIVRE, AMAZON, CASAS BAHIA, PONTO, MAGALU"
      ],
      "metadata": {
        "id": "AeMJBd5_7y1Q"
      },
      "execution_count": 11,
      "outputs": []
    },
    {
      "cell_type": "markdown",
      "source": [
        "## Mensagens com Imagens"
      ],
      "metadata": {
        "id": "k9nzTKIMsD7f"
      }
    },
    {
      "cell_type": "markdown",
      "source": [
        "## Jabar banco inter"
      ],
      "metadata": {
        "id": "zoja_VUrsGbM"
      }
    },
    {
      "cell_type": "code",
      "source": [
        "import requests\n",
        "\n",
        "# Substitua com os dados reais\n",
        "INSTANCE_ID = 'inst_4ng9578nwiz0'\n",
        "API_KEY = 'sk_hRzCfVl0hSFebdFmmN0hwhpNZtVA9JqIdscEpatVHyreMM9f'\n",
        "\n",
        "# JID do grupo (obtido via rota /groups)\n",
        "group_jid = '555195564436-1477420627@g.us'\n",
        "\n",
        "# Mensagem\n",
        "message_promo = f\"\"\"\n",
        "Quando as pessoas me perguntam qual é um bom cartão para começar, eu sempre indico o cartão Inter Prime como uma opção,\n",
        "pois ele oferece uma boa pontuação, pontos que nunca expiram e Sala VIP Grátis!\n",
        "\n",
        "🟠 *Abra a sua conta no Banco Inter e ganhe 200 pontos*\n",
        "Utilize o código 0F01D993 e abra a sua conta gratuita no Inter. Ao fazer isso, você já receberá 200 pontos Loop de presente!\n",
        "👉 https://intergo.app/242d85c4\n",
        "\n",
        "💰 * Quer pegar o cartão Inter Prime pagando menos? Use nosso cupom e economize R$30 no plano anual do Duo Gourmet:*\n",
        "Utilize o código B1EE1054 para ganhar R$ 30 off na assinatura do plano anual pelo app do Inter!\n",
        "👉 Acesse: https://intergo.app/1f148152\n",
        "\n",
        "{\"-\"*30}\n",
        "\n",
        "💳 Assista o vídeo abaixo para conhecer os principais benefícios do cartão Inter Prime 👇\n",
        "https://www.youtube.com/playlist?list=PLywCMnijM298ruCE-Cey18WvsoV2UqqQf\"\"\"\n",
        "\n",
        "# Imagem do Google Drive\n",
        "drive_id = \"1OpOK2Ee1q2yJO-UDhfP3w3hFh2uM7y0s\"\n",
        "img_url = f\"https://drive.google.com/uc?export=view&id={drive_id}\"\n",
        "\n",
        "url = f\"https://api.zapperapi.com/{INSTANCE_ID}/messages/media\"\n",
        "\n",
        "payload = {\n",
        "    \"jid\": group_jid,\n",
        "    \"mediaType\": \"image\",\n",
        "    \"mimetype\": \"image/jpeg\",\n",
        "    \"media\": img_url,\n",
        "    \"caption\": message_promo,  # ← usa seu texto de análise\n",
        "    \"filename\": \"analise.jpg\"\n",
        "}\n",
        "\n",
        "headers = {\n",
        "    \"X-Api-Key\": API_KEY,\n",
        "    \"Content-Type\": \"application/json\"\n",
        "}\n",
        "\n",
        "response = requests.post(url, json=payload, headers=headers)\n",
        "\n",
        "print(response.json())"
      ],
      "metadata": {
        "colab": {
          "base_uri": "https://localhost:8080/"
        },
        "id": "-NbXUiJXQWWr",
        "outputId": "7a0b04ca-20e0-49b3-c6eb-fb31a9b12f0d"
      },
      "execution_count": 12,
      "outputs": [
        {
          "output_type": "stream",
          "name": "stdout",
          "text": [
            "{'status': 'scheduled', 'jobId': '42'}\n"
          ]
        }
      ]
    },
    {
      "cell_type": "code",
      "source": [],
      "metadata": {
        "id": "sNSCfnAODEw3"
      },
      "execution_count": 12,
      "outputs": []
    }
  ]
}